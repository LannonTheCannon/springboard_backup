{
 "cells": [
  {
   "cell_type": "markdown",
   "source": [
    "# Introduction to SQL for Data Scienec\n",
    "SQL is the data scientist's best friend. You'll use it throughout the data science pipeline. It can help you achieve your original goals or help you glean surprising insights. SQL can get you a job. Knowing SQL is pretty darn close to having a superpower!\n",
    "\n",
    "This Introduction to SQL for Data Science course will run you through selecting, filtering, aggregating, sorting, grouping, and joining in SQL. You'll learn syntax like the SELECT, WHERE, ORDER BY, and GROUP BY clauses within DataCamp's controlled, integrated environment, thus avoiding the challenging setup of a personal database.\n",
    "\n",
    "You'll get a chance to exercise your newfound SQL skills in the next subunit. For now, enjoy the clarity of this course as you hone your SQL skills!"
   ],
   "metadata": {
    "collapsed": false
   }
  },
  {
   "cell_type": "markdown",
   "source": [
    "## Relational Databases\n",
    "Before writing any SQL queries, it’s important to understand the underlying data. In this chapter, we’ll discover the role of SQL in creating and querying relational databases. Using a database for a local library, we will explore database and table organization, data types and storage, and best practices for database construction."
   ],
   "metadata": {
    "collapsed": false
   }
  },
  {
   "cell_type": "markdown",
   "source": [
    "### Databases\n",
    "\n",
    "The article is an introduction to databases and SQL programming language. The author explains the structure and advantages of databases, including their ability to store and organize large amounts of data and to define relationships between tables. The author also introduces SQL as the most widely used programming language for querying and updating relational databases. The article includes exercises for readers to practice their database knowledge."
   ],
   "metadata": {
    "collapsed": false
   }
  },
  {
   "cell_type": "markdown",
   "source": [
    "### Tables\n",
    "The article discusses tables in databases, which are the main building blocks of databases. Tables contain related data about a particular subject and are organized into rows (records) and columns (fields). Field and table names should be lowercase, not involve spaces, and singular for field names. Unique identifiers are important to distinguish records, and it is generally better to have more tables with clearly marked subjects rather than fewer tables with combined information."
   ],
   "metadata": {
    "collapsed": false
   }
  },
  {
   "cell_type": "markdown",
   "source": [
    "#### Data\n",
    "\n",
    "\n",
    "This lesson focuses on the data inside a database and its storage. When a table is created, a data type must be indicated for each field. Different types of data are stored differently and take up different amounts of storage space. SQL offers several data types for storing strings, integers, and floats. Schemas are \"blueprints\" of databases that show a database's design, including the data type each field can hold and any relationships between tables. Database information is physically stored on the hard disk of a server."
   ],
   "metadata": {
    "collapsed": false
   }
  },
  {
   "cell_type": "markdown",
   "source": [],
   "metadata": {
    "collapsed": false
   }
  },
  {
   "cell_type": "code",
   "execution_count": null,
   "outputs": [],
   "source": [],
   "metadata": {
    "collapsed": false
   }
  },
  {
   "cell_type": "code",
   "execution_count": null,
   "outputs": [],
   "source": [],
   "metadata": {
    "collapsed": false
   }
  },
  {
   "cell_type": "code",
   "execution_count": null,
   "outputs": [],
   "source": [],
   "metadata": {
    "collapsed": false
   }
  },
  {
   "cell_type": "code",
   "execution_count": null,
   "outputs": [],
   "source": [],
   "metadata": {
    "collapsed": false
   }
  },
  {
   "cell_type": "code",
   "execution_count": null,
   "outputs": [],
   "source": [],
   "metadata": {
    "collapsed": false
   }
  },
  {
   "cell_type": "code",
   "execution_count": null,
   "outputs": [],
   "source": [],
   "metadata": {
    "collapsed": false
   }
  },
  {
   "cell_type": "markdown",
   "source": [
    "## Querying\n",
    "Learn your first SQL keywords for selecting relevant data from database tables! After practicing querying skills in a database of books, you’ll customize query results using aliasing and save them as views so they can be shared. Finally, you’ll explore the differences between SQL flavors and databases such as PostgreSQL and SQL Server."
   ],
   "metadata": {
    "collapsed": false
   }
  },
  {
   "cell_type": "markdown",
   "source": [
    "###  Introducing Queries\n",
    "\n",
    "This lesson introduces SQL queries and their usefulness in analyzing data within and across relational database tables. SQL is best for large datasets with complex relationships. The lesson covers keywords, including SELECT and FROM, which are used to indicate the operation we want our code to perform. We also learn how to write queries to select multiple fields and how to select all fields using an asterisk. A sample query is provided to illustrate how to select data from a table. Finally, we learn that SQL queries do not change the database and that we can save our queries to share with others."
   ],
   "metadata": {
    "collapsed": false
   }
  },
  {
   "cell_type": "markdown",
   "source": [
    "### Introduction to INNER JOIN\n",
    "\n",
    "The article is an introduction to a course on Joining Data in PostgreSQL. The focus of the course is using SQL to join two or more database tables together into a single table. The article explains the INNER JOIN, which is one of the two most common JOINs used. The article provides diagrams to help understand the mechanics of INNER JOIN. It then explains how INNER JOIN can be used in SQL using the example of two tables - prime_ministers and presidents. The syntax for completing an INNER JOIN from the prime_ministers table to the presidents table based on a key field of country is also shown."
   ],
   "metadata": {
    "collapsed": false
   }
  },
  {
   "cell_type": "code",
   "execution_count": null,
   "outputs": [],
   "source": [],
   "metadata": {
    "collapsed": false
   }
  },
  {
   "cell_type": "code",
   "execution_count": null,
   "outputs": [],
   "source": [],
   "metadata": {
    "collapsed": false
   }
  },
  {
   "cell_type": "code",
   "execution_count": null,
   "outputs": [],
   "source": [],
   "metadata": {
    "collapsed": false
   }
  },
  {
   "cell_type": "code",
   "execution_count": null,
   "outputs": [],
   "source": [],
   "metadata": {
    "collapsed": false
   }
  }
 ],
 "metadata": {
  "kernelspec": {
   "display_name": "Python 3",
   "language": "python",
   "name": "python3"
  },
  "language_info": {
   "codemirror_mode": {
    "name": "ipython",
    "version": 2
   },
   "file_extension": ".py",
   "mimetype": "text/x-python",
   "name": "python",
   "nbconvert_exporter": "python",
   "pygments_lexer": "ipython2",
   "version": "2.7.6"
  }
 },
 "nbformat": 4,
 "nbformat_minor": 0
}
