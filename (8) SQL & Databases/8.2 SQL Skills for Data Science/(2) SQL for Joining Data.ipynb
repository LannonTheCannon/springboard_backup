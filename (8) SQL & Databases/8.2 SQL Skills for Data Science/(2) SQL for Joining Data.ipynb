{
 "cells": [
  {
   "cell_type": "markdown",
   "source": [
    "# SQL for Joining Data\n",
    "Now that you've learned the basics of SQL, it's time to supercharge your queries using joins and relational set theory. In this course, you'll learn all about the power of joining tables while exploring interesting features of countries and their cities throughout the world. You will master inner and outer joins, as well as self joins, semi joins, anti joins and cross joins—fundamental tools in any PostgreSQL wizard's toolbox. Never fear set theory again after learning all about unions, intersections, and except clauses through easy-to-understand diagrams and examples. Lastly, you'll be introduced to the challenging topic of subqueries. You will be able to visually grasp these ideas by using Venn diagrams and other linking illustrations."
   ],
   "attachments": {},
   "metadata": {
    "datalore": {
     "node_id": "vJ6qLcsLg352dOzQBCcct9",
     "type": "MD",
     "hide_input_from_viewers": false,
     "hide_output_from_viewers": false,
     "report_properties": {
      "rowId": "fK4syrArwAtAGP1oEnalJu",
      "x": 0,
      "relativeY": 0,
      "width": 0.5,
      "height": 8,
      "splitHeight": 2,
      "isDynamicHeight": false
     }
    }
   }
  },
  {
   "cell_type": "markdown",
   "source": [
    "## Introduction to Joins \n",
    "In this chapter, you'll be introduced to the concept of joining tables, and will explore the different ways you can enrich your queries using inner joins and self joins. You'll also see how to use the case statement to split up a field into different categories.\n",
    "\n",
    "The course is about using SQL to join two or more database tables into a single table, with a focus on INNER JOIN and LEFT JOIN. The instructor provides diagrams to help understand the mechanics of different joins. An example is given using the prime_ministers and presidents tables to find countries with both a prime minister and a president using INNER JOIN. The syntax for INNER JOIN in SQL is explained, and practice exercises are provided."
   ],
   "attachments": {},
   "metadata": {
    "datalore": {
     "node_id": "DrnNT0ydRb4zzaEgdVFYpc",
     "type": "MD",
     "hide_input_from_viewers": false,
     "hide_output_from_viewers": false,
     "report_properties": {
      "rowId": "fK4syrArwAtAGP1oEnalJu",
      "x": 0.5,
      "relativeY": 0,
      "width": 0.5,
      "height": 8,
      "splitHeight": 2,
      "isDynamicHeight": false
     }
    }
   }
  },
  {
   "cell_type": "markdown",
   "source": [
    "#### Inner Join\n",
    "Although this course focuses on PostgreSQL, you'll find that these joins and the material here applies to different forms of SQL as well."
   ],
   "attachments": {},
   "metadata": {
    "datalore": {
     "node_id": "j3EXh84PaA5Mswyq1F2Et2",
     "type": "MD",
     "hide_input_from_viewers": false,
     "hide_output_from_viewers": false,
     "report_properties": {
      "rowId": "gbFzW7E8freCAuESG2GX5H",
      "relativeY": 0
     }
    }
   }
  },
  {
   "cell_type": "code",
   "source": [
    "-- Select all columns from cities\n",
    "SELECT *\n",
    "FROM cities; "
   ],
   "execution_count": null,
   "outputs": [],
   "metadata": {
    "datalore": {
     "node_id": "OCekHOpzEU4ORqgTXdmYpD",
     "type": "SQL",
     "hide_input_from_viewers": false,
     "hide_output_from_viewers": false,
     "report_properties": {
      "rowId": "TcqVTppPTOMoammxa8beWB",
      "relativeY": 0
     },
     "sql_cell_properties": {
      "variableName": "df_1"
     }
    }
   }
  },
  {
   "cell_type": "code",
   "source": [
    "SELECT * \n",
    "FROM cities\n",
    "  -- Inner join to countries\n",
    "  INNER JOIN countries\n",
    "    -- Match on the country codes\n",
    "    ON cities.country_code = countries.code;"
   ],
   "execution_count": null,
   "outputs": [],
   "metadata": {
    "datalore": {
     "node_id": "EJNcYMouX7ogrLAblwZaR0",
     "type": "SQL",
     "hide_input_from_viewers": false,
     "hide_output_from_viewers": false,
     "report_properties": {
      "rowId": "JM4D4XUnJijNQ7lyyXJLP9",
      "relativeY": 0
     },
     "sql_cell_properties": {
      "variableName": "df_2"
     }
    }
   }
  },
  {
   "cell_type": "markdown",
   "source": [
    "#### Inner Join (2)\n",
    "Instead of writing the full table name, you can use table aliasing as a shortcut. For tables you also use AS to add the alias immediately after the table name with a space. Check out the aliasing of cities and countries below."
   ],
   "attachments": {},
   "metadata": {
    "datalore": {
     "node_id": "unsNFlD1CG0HyjLeYuBMYd",
     "type": "MD",
     "hide_input_from_viewers": false,
     "hide_output_from_viewers": false,
     "report_properties": {
      "rowId": "7zT0k3oneXNUIrTp3SF6in",
      "relativeY": 0
     }
    }
   }
  },
  {
   "cell_type": "code",
   "source": [
    "-- Select fields with aliases\n",
    "SELECT c.code AS country_code, name, year, inflation_rate\n",
    "FROM countries AS c\n",
    "  -- Join to economies (alias e)\n",
    "  INNER JOIN economies AS e\n",
    "    -- Match on code\n",
    "    ON c.code = e.code;"
   ],
   "execution_count": null,
   "outputs": [],
   "metadata": {
    "datalore": {
     "node_id": "yYS3aSX90Bd7dc16wpMQs6",
     "type": "SQL",
     "hide_input_from_viewers": false,
     "hide_output_from_viewers": false,
     "report_properties": {
      "rowId": "jGTnn8jvrEDrakANaPQo9O",
      "relativeY": 0
     },
     "sql_cell_properties": {
      "variableName": "df_3"
     }
    }
   }
  },
  {
   "cell_type": "markdown",
   "source": [
    "### Inner Join (3)\n",
    "The ability to combine multiple joins in a single query is a powerful feature of SQL"
   ],
   "attachments": {},
   "metadata": {
    "datalore": {
     "node_id": "8wBOyWTiAXwY9BQFdSI4z7",
     "type": "MD",
     "hide_input_from_viewers": false,
     "hide_output_from_viewers": false,
     "report_properties": {
      "rowId": "0S6O3xcMuWivhHJGeoFn59",
      "relativeY": 0
     }
    }
   }
  },
  {
   "cell_type": "code",
   "source": [
    "-- Select fields\n",
    "SELECT c.code, name, region, e.year, fertility_rate, unemployment_rate\n",
    "  -- From countries (alias as c)\n",
    "  FROM countries AS c\n",
    "  -- Join to populations (as p)\n",
    "  INNER JOIN populations AS p\n",
    "    -- Match on country code\n",
    "    ON c.code = p.country_code\n",
    "  -- Join to economies (as e)\n",
    "  INNER JOIN economies AS e\n",
    "    -- Match on country code and year\n",
    "    ON c.code = e.code AND e.year = p.year;"
   ],
   "execution_count": null,
   "outputs": [],
   "metadata": {
    "datalore": {
     "node_id": "AYqMcjwlov4fENgYEKEuYA",
     "type": "SQL",
     "hide_input_from_viewers": false,
     "hide_output_from_viewers": false,
     "report_properties": {
      "rowId": "Egw85jw6yegD7SRMdsVUuD",
      "relativeY": 0
     },
     "sql_cell_properties": {
      "variableName": "df_4"
     }
    }
   }
  },
  {
   "cell_type": "markdown",
   "source": [
    "### INNER JOIN via USING\n",
    "In this video, the instructor introduces the USING keyword in SQL and how it can be used in joins. The video starts by recapping the INNER JOIN diagram and SQL code needed to complete it. Then, the video demonstrates how to use the USING clause instead of the ON clause when the key field to join on has the same name in both tables. The example of joining the prime_ministers table to the presidents table to determine countries with both types of leaders is revisited to demonstrate the use of USING. The instructor notes that it doesn't matter the order in which the tables are placed in the join if we select columns from both tables. Finally, the video concludes with a practice exercise on INNER JOINs."
   ],
   "attachments": {},
   "metadata": {
    "datalore": {
     "node_id": "t6pU7flNsUC3gehtDZWH4Z",
     "type": "MD",
     "hide_input_from_viewers": false,
     "hide_output_from_viewers": false,
     "report_properties": {
      "rowId": "ulUkiM478CPlsxobTExMZK",
      "relativeY": 0
     }
    }
   }
  },
  {
   "cell_type": "markdown",
   "source": [
    "#### Review inner join using on\n",
    "INNER JOIN requires a specification of the key field (or fields) in each table"
   ],
   "attachments": {},
   "metadata": {
    "datalore": {
     "node_id": "eTTtGnvIxLYZ3vKOcXW7Fc",
     "type": "MD",
     "hide_input_from_viewers": false,
     "hide_output_from_viewers": false,
     "report_properties": {
      "rowId": "NgNWxjHAIlyhMUsMg1PRz4",
      "relativeY": 0
     }
    }
   }
  },
  {
   "cell_type": "markdown",
   "source": [
    "### Inner Join with USING\n",
    "When joining tables tables with a common field name"
   ],
   "attachments": {},
   "metadata": {
    "datalore": {
     "node_id": "luiV1cgWhb5CPDNtVjWf46",
     "type": "MD",
     "hide_input_from_viewers": false,
     "hide_output_from_viewers": false,
     "report_properties": {
      "rowId": "AqbpjmTYT0undjoSp0qKII",
      "relativeY": 0
     }
    }
   }
  },
  {
   "cell_type": "code",
   "source": [
    "-- Select fields\n",
    "SELECT c.name AS country, continent, l.name AS language, official\n",
    "  -- From countries (alias as c)\n",
    "  FROM countries AS c\n",
    "  -- Join to languages (as l)\n",
    "  INNER JOIN languages AS l\n",
    "    -- Match using code\n",
    "    USING(code);"
   ],
   "execution_count": null,
   "outputs": [],
   "metadata": {
    "datalore": {
     "node_id": "K9m7c0KhWQrosW2cvW2e4f",
     "type": "SQL",
     "hide_input_from_viewers": false,
     "hide_output_from_viewers": false,
     "report_properties": {
      "rowId": "lCj8IXNL4miPejqUT6KEd2",
      "relativeY": 0
     },
     "sql_cell_properties": {
      "variableName": "df_5"
     }
    }
   }
  },
  {
   "cell_type": "markdown",
   "source": [
    "### Self-ish joins, just in CASE \n",
    "The article discusses self-joins in SQL where a table is joined with itself, allowing the comparison of values in a field to other values of the same field from within the same table. A self-join example is given using the \"prime_ministers\" table where a new table is created showing countries that are in the same continent matched as pairs. The article highlights the use of the key columns to match the table to itself and the need to avoid listing the country with itself. The \"CASE\" command is introduced as a useful tool for grouping numerical data into categories using simplified if-then-else statements. An example is given using the \"indep_year\" field in the \"states\" table where values are grouped into categories of before 1900, between 1900 and 1930, and after 1930. The article also includes practice exercises and a challenge to test the reader's knowledge of the chapter 1 material."
   ],
   "attachments": {},
   "metadata": {
    "datalore": {
     "node_id": "FySgU5kRHBafKdhLbBZDiW",
     "type": "MD",
     "hide_input_from_viewers": false,
     "hide_output_from_viewers": false,
     "report_properties": {
      "rowId": "IlQPN7PQBpiYwhHdaevyVf",
      "relativeY": 0
     }
    }
   }
  },
  {
   "cell_type": "markdown",
   "source": [
    "#### Self-join\n",
    "In this exercise, you'll use the populations table to perform a self-join to calculate the percentage increase in population from 2010 to 2015 for each country code!"
   ],
   "attachments": {},
   "metadata": {
    "datalore": {
     "node_id": "G9yVKN71zN2gx523YrrHn3",
     "type": "MD",
     "hide_input_from_viewers": false,
     "hide_output_from_viewers": false,
     "report_properties": {
      "rowId": "UWGYzu3sHiThTZUAOFVgx2",
      "relativeY": 0
     }
    }
   }
  },
  {
   "cell_type": "code",
   "source": [
    "-- Select fields with aliases\n",
    "SELECT p1.country_code,\n",
    "       p1.size AS size2010,\n",
    "       p2.size AS size2015\n",
    "-- From populations (alias as p1)\n",
    "FROM populations AS p1\n",
    "  -- Join to itself (alias as p2)\n",
    "  INNER JOIN populations AS p2\n",
    "    -- Match on country code\n",
    "    ON  p1.country_code = p2.country_code;"
   ],
   "execution_count": null,
   "outputs": [],
   "metadata": {
    "datalore": {
     "node_id": "bVQ20aqMkddsbhXzGvNgFS",
     "type": "SQL",
     "hide_input_from_viewers": false,
     "hide_output_from_viewers": false,
     "report_properties": {
      "rowId": "aPcTpZTUkpzUWM2PV3OGcI",
      "relativeY": 0
     },
     "sql_cell_properties": {
      "variableName": "df_6"
     }
    }
   }
  },
  {
   "cell_type": "code",
   "source": [
    "-- Select fields with aliases\n",
    "SELECT p1.country_code,\n",
    "       p1.size AS size2010,\n",
    "       p2.size AS size2015\n",
    "-- From populations (alias as p1)\n",
    "FROM populations AS p1\n",
    "  -- Join to itself (alias as p2)\n",
    "  INNER JOIN populations AS p2\n",
    "    -- Match on country code\n",
    "    ON p1.country_code = p2.country_code\n",
    "        -- and year (with calculation)\n",
    "        AND p1.year = p2.year - 5;"
   ],
   "execution_count": null,
   "outputs": [],
   "metadata": {
    "datalore": {
     "node_id": "TaBcPQKk39qQ86TUqHkdPL",
     "type": "SQL",
     "hide_input_from_viewers": false,
     "hide_output_from_viewers": false,
     "report_properties": {
      "rowId": "3B3tEMbM8aQEMwoThat08A",
      "relativeY": 0
     },
     "sql_cell_properties": {
      "variableName": "df_7"
     }
    }
   }
  },
  {
   "cell_type": "code",
   "source": [
    "-- Select fields with aliases\n",
    "SELECT p1.country_code,\n",
    "       p1.size AS size2010, \n",
    "       p2.size AS size2015,\n",
    "       -- Calculate growth_perc\n",
    "       ((p2.size - p1.size)/p1.size * 100.0) AS growth_perc\n",
    "-- From populations (alias as p1)\n",
    "FROM populations AS p1\n",
    "  -- Join to itself (alias as p2)\n",
    "  INNER JOIN populations AS p2\n",
    "    -- Match on country code\n",
    "    ON p1.country_code = p2.country_code\n",
    "        -- and year (with calculation)\n",
    "        AND p1.year = p2.year - 5;"
   ],
   "execution_count": null,
   "outputs": [],
   "metadata": {
    "datalore": {
     "node_id": "4VmbCRMRkY9rI191Ck8C5B",
     "type": "SQL",
     "hide_input_from_viewers": false,
     "hide_output_from_viewers": false,
     "report_properties": {
      "rowId": "q6xTsqoQ2Sa2DfCGfHlulv",
      "relativeY": 0
     },
     "sql_cell_properties": {
      "variableName": "df_8"
     }
    }
   }
  },
  {
   "cell_type": "markdown",
   "source": [
    "#### Case when and then \n",
    "Often it's useful to look at a numerical field not as raw data, but instead as being in different categories or groups.\n",
    "\n",
    "You can use CASE with WHEN, THEN, ELSE, and END to define a new grouping field."
   ],
   "attachments": {},
   "metadata": {
    "datalore": {
     "node_id": "HYSKGz1zXvdJ1daeljTyTY",
     "type": "MD",
     "hide_input_from_viewers": false,
     "hide_output_from_viewers": false,
     "report_properties": {
      "rowId": "jRnGsPfQlIqibavxagcAuF",
      "relativeY": 0
     }
    }
   }
  },
  {
   "cell_type": "code",
   "source": [
    "SELECT name, continent, code, surface_area,\n",
    "    -- First case\n",
    "    CASE WHEN surface_area > 2000000 THEN 'large'\n",
    "        -- Second case\n",
    "        WHEN surface_area > 350000 THEN 'medium'\n",
    "        -- Else clause + end\n",
    "        ELSE 'small' END\n",
    "        -- Alias name\n",
    "        AS geosize_group\n",
    "-- From table\n",
    "FROM countries;"
   ],
   "execution_count": null,
   "outputs": [],
   "metadata": {
    "datalore": {
     "node_id": "HSHq06PyoYpwPSSqMDDwbT",
     "type": "SQL",
     "hide_input_from_viewers": false,
     "hide_output_from_viewers": false,
     "report_properties": {
      "rowId": "IFfq8hE92e2VD56fxIAUoi",
      "relativeY": 0
     },
     "sql_cell_properties": {
      "variableName": "df_9"
     }
    }
   }
  },
  {
   "cell_type": "markdown",
   "source": [
    "#### Inner Challenge \n",
    "The table you created with the added geosize_group field has been loaded for you here with the name countries_plus. Observe the use of (and the placement of) the INTO command to create this countries_plus table:"
   ],
   "attachments": {},
   "metadata": {
    "datalore": {
     "node_id": "ueSobwqMGTaJjWx8lIsrbu",
     "type": "MD",
     "hide_input_from_viewers": false,
     "hide_output_from_viewers": false,
     "report_properties": {
      "rowId": "9FTVF628Hzuc4US0H0mPBC",
      "relativeY": 0
     }
    }
   }
  },
  {
   "cell_type": "code",
   "source": [
    "SELECT country_code, size,\n",
    "    -- First case\n",
    "    CASE WHEN size > 50000000 THEN 'large'\n",
    "        -- Second case\n",
    "        WHEN size > 1000000 THEN 'medium'\n",
    "        -- Else clause + end\n",
    "        ELSE 'small' END\n",
    "        -- Alias name (popsize_group)\n",
    "        AS popsize_group\n",
    "-- From table\n",
    "FROM populations\n",
    "-- Focus on 2015\n",
    "WHERE year = 2015;"
   ],
   "execution_count": null,
   "outputs": [],
   "metadata": {
    "datalore": {
     "node_id": "7xwbpNBpDQwSTfPHmsP3aW",
     "type": "SQL",
     "hide_input_from_viewers": false,
     "hide_output_from_viewers": false,
     "report_properties": {
      "rowId": "5UH4tFZQptbtVxq40JmUlv",
      "relativeY": 0
     },
     "sql_cell_properties": {
      "variableName": "df_10"
     }
    }
   }
  },
  {
   "cell_type": "code",
   "source": [
    "SELECT country_code, size,\n",
    "    CASE WHEN size > 50000000 THEN 'large'\n",
    "        WHEN size > 1000000 THEN 'medium'\n",
    "        ELSE 'small' END\n",
    "        AS popsize_group\n",
    "-- Into table\n",
    "INTO pop_plus\n",
    "FROM populations\n",
    "WHERE year = 2015;\n",
    "\n",
    "-- Select all columns of pop_plus\n",
    "SELECT * FROM pop_plus;"
   ],
   "execution_count": null,
   "outputs": [],
   "metadata": {
    "datalore": {
     "node_id": "FUPEW8hiRDq78JWMjiB0ju",
     "type": "SQL",
     "hide_input_from_viewers": false,
     "hide_output_from_viewers": false,
     "report_properties": {
      "rowId": "FeOA3kLK8MV8M8xSDqroeo",
      "relativeY": 0
     },
     "sql_cell_properties": {
      "variableName": "df_11"
     }
    }
   }
  },
  {
   "cell_type": "code",
   "source": [
    "SELECT country_code, size,\n",
    "  CASE WHEN size > 50000000\n",
    "            THEN 'large'\n",
    "       WHEN size > 1000000\n",
    "            THEN 'medium'\n",
    "       ELSE 'small' END\n",
    "       AS popsize_group\n",
    "INTO pop_plus       \n",
    "FROM populations\n",
    "WHERE year = 2015;\n",
    "\n",
    "-- Select fields\n",
    "SELECT name, continent, geosize_group, popsize_group\n",
    "-- From countries_plus (alias as c)\n",
    "FROM countries_plus AS c\n",
    "  -- Join to pop_plus (alias as p)\n",
    "  INNER JOIN pop_plus AS p\n",
    "    -- Match on country code\n",
    "    ON c.code = p.country_code\n",
    "-- Order the table    \n",
    "ORDER BY geosize_group;"
   ],
   "execution_count": null,
   "outputs": [],
   "metadata": {
    "datalore": {
     "node_id": "33FzE1ZM5GIoGV88UqAqO8",
     "type": "SQL",
     "hide_input_from_viewers": false,
     "hide_output_from_viewers": false,
     "report_properties": {
      "rowId": "rlaaKEha2Z8c1Fsn9suBJW",
      "relativeY": 0
     },
     "sql_cell_properties": {
      "variableName": "df_12"
     }
    }
   }
  },
  {
   "cell_type": "markdown",
   "source": [
    "## Outer Joins and Cross Joins\n",
    "In this chapter, you'll come to grips with different kinds of outer joins. You'll learn how to gain further insights into your data through left joins, right joins, and full joins. In addition to outer joins, you'll also work with cross joins.\n",
    "\n",
    "In Chapter 2 of the course, you will learn about OUTER JOINs. There are three types of OUTER JOINs: LEFT JOIN, RIGHT JOIN, and FULL JOIN. Unlike INNER JOINs, which only keep the records that are present in both tables, OUTER JOINs keep all the records from one table and combine them with the matching records from the other table.\n",
    "\n",
    "The LEFT JOIN operation keeps all the records from the left table and combines them with the matching records from the right table. If there are no matches in the right table, the values are marked as missing. The RIGHT JOIN operation does the opposite: it keeps all the records from the right table and combines them with the matching records from the left table. If there are no matches in the left table, the values are marked as missing.\n",
    "\n",
    "The syntax for LEFT JOIN and RIGHT JOIN is similar to that of INNER JOIN, with the difference being the keyword used. In LEFT JOIN, the keyword is \"LEFT JOIN,\" and in RIGHT JOIN, the keyword is \"RIGHT JOIN.\"\n",
    "\n",
    "You will also learn about FULL JOIN, which combines the results of both LEFT JOIN and RIGHT JOIN. In FULL JOIN, all the records from both tables are kept and combined. If there are no matches in one table, the values are marked as missing.\n",
    "\n",
    "To practice OUTER JOINs, you can use the diagrams provided and write SQL queries using the appropriate JOIN keyword."
   ],
   "attachments": {},
   "metadata": {
    "datalore": {
     "node_id": "nyO7lbtvhmjSwJifs8yTgJ",
     "type": "MD",
     "hide_input_from_viewers": false,
     "hide_output_from_viewers": false,
     "report_properties": {
      "rowId": "E9IdORNPIWw9x2XhXbSQ2s",
      "relativeY": 0
     }
    }
   }
  },
  {
   "cell_type": "markdown",
   "source": [
    "#### Left Join \n",
    "Now you'll explore the differences between performing an inner join and a left join using the cities and countries tables.\n",
    "\n",
    "You'll begin by performing an inner join with the cities table on the left and the countries table on the right. Remember to alias the name of the city field as city and the name of the country field as country."
   ],
   "attachments": {},
   "metadata": {
    "datalore": {
     "node_id": "05RS5DOHudXDALDsGjmJVQ",
     "type": "MD",
     "hide_input_from_viewers": false,
     "hide_output_from_viewers": false,
     "report_properties": {
      "rowId": "sjV7vtiPOHD8B1bkvADIDR",
      "relativeY": 0
     }
    }
   }
  },
  {
   "cell_type": "code",
   "source": [
    "-- Select the city name (with alias), the country code,\n",
    "-- the country name (with alias), the region,\n",
    "-- and the city proper population\n",
    "SELECT c1.name AS city, code, c2.name AS country,\n",
    "       region, city_proper_pop\n",
    "-- From left table (with alias)\n",
    "FROM cities AS c1\n",
    "  -- Join to right table (with alias)\n",
    "  INNER JOIN countries AS c2\n",
    "    -- Match on country code?\n",
    "    ON c1.country_code = c2.code\n",
    "-- Order based on descending country code\n",
    "ORDER BY code DESC;"
   ],
   "execution_count": null,
   "outputs": [],
   "metadata": {
    "datalore": {
     "node_id": "rAUOC4IMY3vdVyMz5UxDw1",
     "type": "SQL",
     "hide_input_from_viewers": false,
     "hide_output_from_viewers": false,
     "report_properties": {
      "rowId": "4MoAZQzK41AK1Z9qPHkcjy",
      "relativeY": 0
     },
     "sql_cell_properties": {
      "variableName": "df_13"
     }
    }
   }
  },
  {
   "cell_type": "markdown",
   "source": [
    "You will then change the query to a left join. Take note of how many records are in each query here!\n",
    "\n",
    "Change the code to perform a LEFT JOIN instead of an INNER JOIN. After executing this query, note how many records the query result contains."
   ],
   "attachments": {},
   "metadata": {
    "datalore": {
     "node_id": "2norCY1rqtyGoTYPfkg4EZ",
     "type": "MD",
     "hide_input_from_viewers": false,
     "hide_output_from_viewers": false,
     "report_properties": {
      "rowId": "Dd1QOyauglzGOL7J4KfK9i",
      "relativeY": 0
     }
    }
   }
  },
  {
   "cell_type": "code",
   "source": [
    "SELECT c1.name AS city, code, c2.name AS country,\n",
    "       region, city_proper_pop\n",
    "FROM cities AS c1\n",
    "  -- Join right table (with alias)\n",
    "  LEFT JOIN countries AS c2\n",
    "    -- Match on country code\n",
    "    ON c1.country_code = c2.code\n",
    "-- Order by descending country code\n",
    "ORDER BY code DESC;"
   ],
   "execution_count": null,
   "outputs": [],
   "metadata": {
    "datalore": {
     "node_id": "ve5mbSmrSZSuu12VSCZcC9",
     "type": "SQL",
     "hide_input_from_viewers": false,
     "hide_output_from_viewers": false,
     "report_properties": {
      "rowId": "PBSY7U65sUess3Ce6yOZsY",
      "relativeY": 0
     },
     "sql_cell_properties": {
      "variableName": "df_14"
     }
    }
   }
  },
  {
   "cell_type": "markdown",
   "source": [
    "#### Left join (2)\n",
    "\n",
    "Next, you'll try out another example comparing an inner join to its corresponding left join. Before you begin though, take note of how many records are in both the countries and languages tables below.\n",
    "\n",
    "You will begin with an inner join on the countries table on the left with the languages table on the right. Then you'll change the code to a left join in the next bullet.\n",
    "\n",
    "Note the use of multi-line comments here using /* and */.\n",
    "\n",
    "Perform an inner join and alias the name of the country field as country and the name of the language field as language.\n",
    "Sort based on descending country name."
   ],
   "attachments": {},
   "metadata": {
    "datalore": {
     "node_id": "VzHO3Eam8PFoc4sP27niGY",
     "type": "MD",
     "hide_input_from_viewers": false,
     "hide_output_from_viewers": false,
     "report_properties": {
      "rowId": "wzrmDF8jNlkNiJvpguTRZI",
      "relativeY": 0
     }
    }
   }
  },
  {
   "cell_type": "code",
   "source": [
    "/*\n",
    "Select country name AS country, the country's local name,\n",
    "the language name AS language, and\n",
    "the percent of the language spoken in the country\n",
    "*/\n",
    "SELECT c.name AS country, local_name, l.name AS language, percent\n",
    "-- From left table (alias as c)\n",
    "FROM countries AS c\n",
    "  -- Join to right table (alias as l)\n",
    "  INNER JOIN languages AS l\n",
    "    -- Match on fields\n",
    "    ON c.code = l.code\n",
    "-- Order by descending country\n",
    "ORDER BY country DESC;"
   ],
   "execution_count": null,
   "outputs": [],
   "metadata": {
    "datalore": {
     "node_id": "l8bYaLeX8zBGzLkYhkx9uO",
     "type": "SQL",
     "hide_input_from_viewers": false,
     "hide_output_from_viewers": false,
     "report_properties": {
      "rowId": "ajmrdtnNFeOuRr5VfP9MIs",
      "relativeY": 0
     },
     "sql_cell_properties": {
      "variableName": "df_15"
     }
    }
   }
  },
  {
   "cell_type": "markdown",
   "source": [
    "Perform a left join instead of an inner join. Observe the result, and also note the change in the number of records in the result.\n",
    "Carefully review which records appear in the left join result, but not in the inner join result."
   ],
   "attachments": {},
   "metadata": {
    "datalore": {
     "node_id": "8WCv3BeVADpY1qjnE5A9Bu",
     "type": "MD",
     "hide_input_from_viewers": false,
     "hide_output_from_viewers": false,
     "report_properties": {
      "rowId": "Kqk2XlcZh5dfpMirCFrXhr",
      "relativeY": 0
     }
    }
   }
  },
  {
   "cell_type": "code",
   "source": [
    "/*\n",
    "Select country name AS country, the country's local name,\n",
    "the language name AS language, and\n",
    "the percent of the language spoken in the country\n",
    "*/\n",
    "SELECT c.name AS country, local_name, l.name AS language, percent\n",
    "-- From left table (alias as c)\n",
    "FROM countries AS c\n",
    "  -- Join to right table (alias as l)\n",
    "  LEFT JOIN languages AS l\n",
    "    -- Match on fields\n",
    "    ON c.code = l.code\n",
    "-- Order by descending country\n",
    "ORDER BY country DESC;"
   ],
   "execution_count": null,
   "outputs": [],
   "metadata": {
    "datalore": {
     "node_id": "PdzatcHLbX1K8EyimyWa2M",
     "type": "SQL",
     "hide_input_from_viewers": false,
     "hide_output_from_viewers": false,
     "report_properties": {
      "rowId": "V9tn5OK6bw5Rq4GnVs5uZY",
      "relativeY": 0
     },
     "sql_cell_properties": {
      "variableName": "df_16"
     }
    }
   }
  },
  {
   "cell_type": "markdown",
   "source": [
    "#### Left Join (3)\n",
    "You'll now revisit the use of the AVG() function introduced in our introductory SQL course. You will use it in combination with left join to determine the average gross domestic product (GDP) per capita by region in 2010.\n",
    "\n",
    "Begin with a left join with the countries table on the left and the economies table on the right.\n",
    "Focus only on records with 2010 as the year."
   ],
   "attachments": {},
   "metadata": {
    "datalore": {
     "node_id": "4GfxfJIQIcg4OBjv2eCwt8",
     "type": "MD",
     "hide_input_from_viewers": false,
     "hide_output_from_viewers": false,
     "report_properties": {
      "rowId": "Oem2t3PG0lAjOiwGMvP92s",
      "relativeY": 0
     }
    }
   }
  },
  {
   "cell_type": "code",
   "source": [
    "-- Select name, region, and gdp_percapita\n",
    "SELECT name, region, gdp_percapita\n",
    "-- From countries (alias as c)\n",
    "FROM countries AS c\n",
    "  -- Left join with economies (alias as e)\n",
    "  LEFT JOIN economies AS e\n",
    "    -- Match on code fields\n",
    "    ON c.code = e.code\n",
    "-- Focus on 2010\n",
    "WHERE year = 2010;"
   ],
   "execution_count": null,
   "outputs": [],
   "metadata": {
    "datalore": {
     "node_id": "HgX38Q65MVDMoX3smkkprc",
     "type": "SQL",
     "hide_input_from_viewers": false,
     "hide_output_from_viewers": false,
     "report_properties": {
      "rowId": "iI9hdxFwelRElI21NQgZOr",
      "relativeY": 0
     },
     "sql_cell_properties": {
      "variableName": "df_17"
     }
    }
   }
  },
  {
   "cell_type": "markdown",
   "source": [
    "Modify your code to calculate the average GDP per capita AS avg_gdp for each region in 2010.\n",
    "\n",
    "Select the region and avg_gdp fields."
   ],
   "attachments": {},
   "metadata": {
    "datalore": {
     "node_id": "dY6YI6c9P3lsxrDww28rli",
     "type": "MD",
     "hide_input_from_viewers": false,
     "hide_output_from_viewers": false,
     "report_properties": {
      "rowId": "fMvDWftlkleHZ79vKCP9Tr",
      "relativeY": 0
     }
    }
   }
  },
  {
   "cell_type": "code",
   "source": [
    "-- Select fields\n",
    "SELECT region, AVG(gdp_percapita) AS avg_gdp\n",
    "-- From countries (alias as c)\n",
    "FROM countries AS c\n",
    "  -- Left join with economies (alias as e)\n",
    "  LEFT JOIN economies AS e\n",
    "    -- Match on code fields\n",
    "    ON c.code = e.code\n",
    "-- Focus on 2010\n",
    "WHERE year = 2010\n",
    "-- Group by region\n",
    "GROUP BY region;"
   ],
   "execution_count": null,
   "outputs": [],
   "metadata": {
    "datalore": {
     "node_id": "QSopTAqEWZBwX7ytOl4lV3",
     "type": "SQL",
     "hide_input_from_viewers": false,
     "hide_output_from_viewers": false,
     "report_properties": {
      "rowId": "iRsf6LkrLTNbDSmxlNzOuZ",
      "relativeY": 0
     },
     "sql_cell_properties": {
      "variableName": "df_18"
     }
    }
   }
  },
  {
   "cell_type": "markdown",
   "source": [
    "Arrange this data on average GDP per capita for each region in 2010 from highest to lowest average GDP per capita."
   ],
   "attachments": {},
   "metadata": {
    "datalore": {
     "node_id": "zWopycdE6kVvPoKh4G7ATs",
     "type": "MD",
     "hide_input_from_viewers": false,
     "hide_output_from_viewers": false,
     "report_properties": {
      "rowId": "U4Gsd2y3shU1aouASNOMDx",
      "relativeY": 0
     }
    }
   }
  },
  {
   "cell_type": "code",
   "source": [
    "-- Select fields\n",
    "SELECT region, AVG(gdp_percapita) AS avg_gdp\n",
    "-- From countries (alias as c)\n",
    "FROM countries AS c\n",
    "  -- Left join with economies (alias as e)\n",
    "  LEFT JOIN economies AS e\n",
    "    -- Match on code fields\n",
    "    ON c.code = e.code\n",
    "-- Focus on 2010\n",
    "WHERE year = 2010\n",
    "-- Group by region\n",
    "GROUP BY region\n",
    "-- Order by descending avg_gdp\n",
    "ORDER BY avg_gdp DESC;"
   ],
   "execution_count": null,
   "outputs": [],
   "metadata": {
    "datalore": {
     "node_id": "93RMUFPdsbIGcYQWRvCK5p",
     "type": "SQL",
     "hide_input_from_viewers": false,
     "hide_output_from_viewers": false,
     "report_properties": {
      "rowId": "Dq75HlobiBkFs7MHU2kQGG",
      "relativeY": 0
     },
     "sql_cell_properties": {
      "variableName": "df_19"
     }
    }
   }
  },
  {
   "cell_type": "markdown",
   "source": [
    "#### Right join\n",
    "Right joins aren't as common as left joins. One reason why is that you always write a right join as a left join. \n",
    "\n",
    "***Instructions***\n",
    "The left join code is commented out here. Your task is to write a new query using rights joins that produces the same result as what the query using left joins produces. Keep this left joins code commented as you write your own query just below it using right joins to solve the problem.\n",
    "\n",
    "Note the order of the joins matters in your conversion to using right joins!"
   ],
   "attachments": {},
   "metadata": {
    "datalore": {
     "node_id": "CuyMxlnPdZMfkb7iOIUZMX",
     "type": "MD",
     "hide_input_from_viewers": false,
     "hide_output_from_viewers": false,
     "report_properties": {
      "rowId": "LI7DlNtTr8uDUm2hjaN3s3",
      "relativeY": 0
     }
    }
   }
  },
  {
   "cell_type": "code",
   "source": [
    "-- convert this code to use RIGHT JOINs instead of LEFT JOINs\n",
    "/*\n",
    "SELECT cities.name AS city, urbanarea_pop, countries.name AS country,\n",
    "       indep_year, languages.name AS language, percent\n",
    "FROM cities\n",
    "  LEFT JOIN countries\n",
    "    ON cities.country_code = countries.code\n",
    "  LEFT JOIN languages\n",
    "    ON countries.code = languages.code\n",
    "ORDER BY city, language;\n",
    "*/\n",
    "\n",
    "SELECT cities.name AS city, urbanarea_pop, countries.name AS country,\n",
    "       indep_year, languages.name AS language, percent\n",
    "FROM languages\n",
    "  RIGHT JOIN countries\n",
    "    ON languages.code = countries.code\n",
    "  RIGHT JOIN cities\n",
    "    ON countries.code = cities.country_code\n",
    "ORDER BY city, language;"
   ],
   "execution_count": null,
   "outputs": [],
   "metadata": {
    "datalore": {
     "node_id": "xWSSU8dkDZ0hOvWbKUjUcg",
     "type": "SQL",
     "hide_input_from_viewers": false,
     "hide_output_from_viewers": false,
     "report_properties": {
      "rowId": "yayBoYlIetaCNimyQebS0e",
      "relativeY": 0
     },
     "sql_cell_properties": {
      "variableName": "df_20"
     }
    }
   }
  },
  {
   "cell_type": "markdown",
   "source": [
    "### Full Joins \n",
    "This text is discussing the concept of FULL JOINs in SQL, which is one of the three types of OUTER JOINs. The article begins by explaining the differences between FULL JOINs, INNER JOINs, and LEFT/RIGHT JOINs. It then describes how INNER JOINs and LEFT/RIGHT JOINs work by keeping only the matching records and all the records from one table, respectively.\n",
    "\n",
    "The article goes on to explain that a FULL JOIN combines a LEFT JOIN and a RIGHT JOIN and includes all records from both tables while keeping track of missing values. The text includes a diagram that illustrates this concept and shows how it includes all six values of id. The article provides SQL code that produces the FULL JOIN result.\n",
    "\n",
    "Next, the article explores an example from the leaders database, where it uses a FULL JOIN to look at countries with prime ministers and/or presidents. It includes the SQL code and describes each step, including specifying the left and right tables, joining the tables based on the key field of country, and selecting the relevant fields. The article also provides an example of the FULL JOIN results using the leaders database.\n",
    "\n",
    "Finally, the article concludes with a practice exercise to help users solidify their understanding of FULL JOINs."
   ],
   "attachments": {},
   "metadata": {
    "datalore": {
     "node_id": "9VxMk15ddDL76vE3l55jPi",
     "type": "MD",
     "hide_input_from_viewers": false,
     "hide_output_from_viewers": false,
     "report_properties": {
      "rowId": "E42QfJO8BsTEy5KYn7gIGC",
      "relativeY": 0
     }
    }
   }
  },
  {
   "cell_type": "markdown",
   "source": [
    "#### Full join \n",
    "In this exercise, you'll examine how your results differ when using a full join versus using a left join versus using an inner join with the countries and currencies tables.\n",
    "\n",
    "You will focus on the North American region and also where the name of the country is missing. Dig in to see what we mean!\n",
    "\n",
    "Begin with a full join with countries on the left and currencies on the right. The fields of interest have been SELECTed for you throughout this exercise.\n",
    "\n",
    "Then complete a similar left join and conclude with an inner join.\n",
    "\n",
    "***Instructions***\n",
    "Choose records in which region corresponds to North America or is NULL."
   ],
   "attachments": {},
   "metadata": {
    "datalore": {
     "node_id": "GvmtTzmXgqvaQoMuy4KwiK",
     "type": "MD",
     "hide_input_from_viewers": false,
     "hide_output_from_viewers": false,
     "report_properties": {
      "rowId": "302EPAjTI3nZANFOhiyXoF",
      "relativeY": 0
     }
    }
   }
  },
  {
   "cell_type": "code",
   "source": [
    "SELECT name AS country, code, region, basic_unit\n",
    "-- From countries\n",
    "FROM countries\n",
    "  -- Join to currencies\n",
    "  FULL JOIN currencies\n",
    "    -- Match on code\n",
    "    USING (code)\n",
    "-- Where region is North America or null\n",
    "WHERE region = 'North America' OR region IS NULL\n",
    "-- Order by region\n",
    "ORDER BY region;"
   ],
   "execution_count": null,
   "outputs": [],
   "metadata": {
    "datalore": {
     "node_id": "qOsrD7J7M408GxCYFPOuKR",
     "type": "SQL",
     "hide_input_from_viewers": false,
     "hide_output_from_viewers": false,
     "report_properties": {
      "rowId": "5ofqLBGCwROlIy61PIgN8v",
      "relativeY": 0
     },
     "sql_cell_properties": {
      "variableName": "df_21"
     }
    }
   }
  },
  {
   "cell_type": "markdown",
   "source": [
    "***Instructions*** Repeat the same query as before, using a LEFT JOIN instead of a FULL JOIN. Note what has changed compared to the FULL JOIN result!"
   ],
   "attachments": {},
   "metadata": {
    "datalore": {
     "node_id": "gxL0ZobscyZWsiF9WYqScL",
     "type": "MD",
     "hide_input_from_viewers": false,
     "hide_output_from_viewers": false,
     "report_properties": {
      "rowId": "UZW5xSy01FUd9vjMbRz1Gv",
      "relativeY": 0
     }
    }
   }
  },
  {
   "cell_type": "code",
   "source": [
    "SELECT name AS country, code, region, basic_unit\n",
    "-- From countries\n",
    "FROM countries\n",
    "  -- Join to currencies\n",
    "  LEFT JOIN currencies\n",
    "    -- Match on code\n",
    "    USING (code)\n",
    "-- Where region is North America or null\n",
    "WHERE region = 'North America' OR region IS NULL\n",
    "-- Order by region\n",
    "ORDER BY region;"
   ],
   "execution_count": null,
   "outputs": [],
   "metadata": {
    "datalore": {
     "node_id": "30qQZO259PcPKnE21xF1xv",
     "type": "SQL",
     "hide_input_from_viewers": false,
     "hide_output_from_viewers": false,
     "report_properties": {
      "rowId": "IRI9WfyUMNifzLXAlgSDmH",
      "relativeY": 0
     },
     "sql_cell_properties": {
      "variableName": "df_22"
     }
    }
   }
  },
  {
   "cell_type": "markdown",
   "source": [
    "***Instructions*** Repeat the same query again but use an INNER JOIN instead of a FULL JOIN. Note what has changed compared to the FULL JOIN and LEFT JOIN results!"
   ],
   "attachments": {},
   "metadata": {
    "datalore": {
     "node_id": "MKMQ46wIEVTljzdGRqGaNF",
     "type": "MD",
     "hide_input_from_viewers": false,
     "hide_output_from_viewers": false,
     "report_properties": {
      "rowId": "0nnz3HCI6ltrTXVl21fIyy",
      "relativeY": 0
     }
    }
   }
  },
  {
   "cell_type": "code",
   "source": [
    "SELECT name AS country, code, region, basic_unit\n",
    "-- From countries\n",
    "FROM countries\n",
    "  -- Join to currencies\n",
    "  INNER JOIN currencies\n",
    "    -- Match on code\n",
    "    USING (code)\n",
    "-- Where region is North America or null\n",
    "WHERE region = 'North America' OR region IS NULL\n",
    "-- Order by region\n",
    "ORDER BY region;"
   ],
   "execution_count": null,
   "outputs": [],
   "metadata": {
    "datalore": {
     "node_id": "kgnEpDF5idBWRWe7uYVIZw",
     "type": "SQL",
     "hide_input_from_viewers": false,
     "hide_output_from_viewers": false,
     "report_properties": {
      "rowId": "6e5oGUsx4VAOVL3n88IFtf",
      "relativeY": 0
     },
     "sql_cell_properties": {
      "variableName": "df_23"
     }
    }
   }
  },
  {
   "cell_type": "markdown",
   "source": [
    "#### Full Join (2)\n",
    "You'll now investigate a similar exercise to the last one, but this time focused on using a table with more records on the left than the right. You'll work with the languages and countries tables.\n",
    "\n",
    "Begin with a full join with languages on the left and countries on the right. Appropriate fields have been selected for you again here.\n",
    "\n",
    "***Instructions:*** Choose records in which countries.name starts with the capital letter 'V' or is NULL.\n",
    "Arrange by countries.name in ascending order to more clearly see the results."
   ],
   "attachments": {},
   "metadata": {
    "datalore": {
     "node_id": "ct5R1DtD2yKEzETnkmx08d",
     "type": "MD",
     "hide_input_from_viewers": false,
     "hide_output_from_viewers": false,
     "report_properties": {
      "rowId": "n2y9Y5NJFXueqxY9rfKmqp",
      "relativeY": 0
     }
    }
   }
  },
  {
   "cell_type": "code",
   "source": [
    "SELECT countries.name, code, languages.name AS language\n",
    "-- From languages\n",
    "FROM languages\n",
    "  -- Join to countries\n",
    "  FULL JOIN countries\n",
    "    -- Match on code\n",
    "    USING (code)\n",
    "-- Where countries.name starts with V or is null\n",
    "WHERE countries.name LIKE 'V%' OR countries.name IS NULL\n",
    "-- Order by ascending countries.name\n",
    "ORDER BY countries.name;"
   ],
   "execution_count": null,
   "outputs": [],
   "metadata": {
    "datalore": {
     "node_id": "dmnwUCLYI5aAeaI15qQpWI",
     "type": "SQL",
     "hide_input_from_viewers": false,
     "hide_output_from_viewers": false,
     "report_properties": {
      "rowId": "KKfpZVCUOAwF61wYQ20CKB",
      "relativeY": 0
     },
     "sql_cell_properties": {
      "variableName": "df_24"
     }
    }
   }
  },
  {
   "cell_type": "markdown",
   "source": [
    "***Instructions:*** Repeat the same query as before, using a LEFT JOIN instead of a FULL JOIN. Note what has changed compared to the FULL JOIN result!"
   ],
   "attachments": {},
   "metadata": {
    "datalore": {
     "node_id": "DQz6nH2uwso3GfeHCYYYth",
     "type": "MD",
     "hide_input_from_viewers": false,
     "hide_output_from_viewers": false,
     "report_properties": {
      "rowId": "SIxtr8S1QdvLEKlVjNb6w8",
      "relativeY": 0
     }
    }
   }
  },
  {
   "cell_type": "code",
   "source": [
    "SELECT countries.name, code, languages.name AS language\n",
    "-- From languages\n",
    "FROM languages\n",
    "  -- Join to countries\n",
    "  LEFT JOIN countries\n",
    "    -- Match using code\n",
    "    USING (code)\n",
    "-- Where countries.name starts with V or is null\n",
    "WHERE countries.name LIKE 'V%' OR countries.name IS NULL\n",
    "-- Order by ascending countries.name\n",
    "ORDER BY countries.name;"
   ],
   "execution_count": null,
   "outputs": [],
   "metadata": {
    "datalore": {
     "node_id": "aEVK7jqAeiG2k14LN6PocY",
     "type": "SQL",
     "hide_input_from_viewers": false,
     "hide_output_from_viewers": false,
     "report_properties": {
      "rowId": "wypB713w1ljf5ZzhiDeqWu",
      "relativeY": 0
     },
     "sql_cell_properties": {
      "variableName": "df_25"
     }
    }
   }
  },
  {
   "cell_type": "markdown",
   "source": [
    "***Instructions:*** Repeat once more, but use an INNER JOIN instead of a LEFT JOIN. Note what has changed compared to the FULL JOIN and LEFT JOIN results."
   ],
   "attachments": {},
   "metadata": {
    "datalore": {
     "node_id": "w4qY49tCqQLDD4wJ7PP6Nw",
     "type": "MD",
     "hide_input_from_viewers": false,
     "hide_output_from_viewers": false,
     "report_properties": {
      "rowId": "dyKEXlKUtuOeYyp4RmT3Fg",
      "relativeY": 0
     }
    }
   }
  },
  {
   "cell_type": "code",
   "source": [
    "SELECT countries.name, code, languages.name AS language\n",
    "-- From languages\n",
    "FROM languages\n",
    "  -- Join to countries\n",
    "  INNER JOIN countries\n",
    "  -- Match using code\n",
    "    USING (code)\n",
    "-- Where countries.name starts with V or is null\n",
    "WHERE countries.name LIKE 'V%' OR countries.name IS NULL\n",
    "-- Order by ascending countries.name\n",
    "ORDER BY countries.name;"
   ],
   "execution_count": null,
   "outputs": [],
   "metadata": {
    "datalore": {
     "node_id": "cBgiOlYJahagW8AlDETeuA",
     "type": "SQL",
     "hide_input_from_viewers": false,
     "hide_output_from_viewers": false,
     "report_properties": {
      "rowId": "Pa6jBfMhIyWdxmHmcGNK5o",
      "relativeY": 0
     },
     "sql_cell_properties": {
      "variableName": "df_26"
     }
    }
   }
  },
  {
   "cell_type": "markdown",
   "source": [
    "#### Full Join (3)\n",
    "You'll now explore using two consecutive full joins on the three tables you worked with in the previous two exercises.\n",
    "\n",
    "***Instructions:*** \n",
    "1. Complete a full join with countries on the left and languages on the right.\n",
    "2. Next, full join this result with currencies on the right.\n",
    "3. Use LIKE to choose the Melanesia and Micronesia regions (Hint: 'M%esia').\n",
    "4. Select the fields corresponding to the country name AS country, region, language name AS language, and basic and fractional units of currency."
   ],
   "attachments": {},
   "metadata": {
    "datalore": {
     "node_id": "VeDOy1A62Sj7SAHr8SdxU5",
     "type": "MD",
     "hide_input_from_viewers": false,
     "hide_output_from_viewers": false,
     "report_properties": {
      "rowId": "hlscgUtZdcgAnrnxQAinVP",
      "relativeY": 0
     }
    }
   }
  },
  {
   "cell_type": "code",
   "source": [
    "-- Select fields (with aliases)\n",
    "SELECT c1.name AS country, region, l.name AS language,\n",
    "       basic_unit, frac_unit\n",
    "-- From countries (alias as c1)\n",
    "FROM countries AS c1\n",
    "  -- Join with languages (alias as l)\n",
    "  FULL JOIN languages AS l\n",
    "    -- Match on code\n",
    "    USING (code)\n",
    "  -- Join with currencies (alias as c2)\n",
    "  FULL JOIN currencies AS c2\n",
    "    -- Match on code\n",
    "    USING (code)\n",
    "-- Where region like Melanesia and Micronesia\n",
    "WHERE region LIKE 'M%esia';"
   ],
   "execution_count": null,
   "outputs": [],
   "metadata": {
    "datalore": {
     "node_id": "YR2Av00J3diaho13tBwtVn",
     "type": "SQL",
     "hide_input_from_viewers": false,
     "hide_output_from_viewers": false,
     "report_properties": {
      "rowId": "1IVpAyBUsuFDTPVlvLVHKi",
      "relativeY": 0
     },
     "sql_cell_properties": {
      "variableName": "df_27"
     }
    }
   }
  },
  {
   "cell_type": "markdown",
   "source": [
    "### CROSSing the rubicon \n",
    "This lesson introduces the CROSS JOIN, which creates all possible combinations of two tables. The resulting table will have a number of rows equal to the product of the number of rows in the two input tables. The CROSS JOIN syntax is similar to that of INNER JOINs and OUTER JOINs.\n",
    "\n",
    "As an example, the lesson shows how to use a CROSS JOIN to generate all possible pairings between prime ministers and presidents in the leaders database. The resulting table has a row for each combination of prime minister and president.\n",
    "\n",
    "For an entry-level data scientist, it is important to understand the differences between INNER JOINs, OUTER JOINs, and CROSS JOINs. While INNER JOINs and OUTER JOINs merge tables based on matching key field values, CROSS JOINs create all possible combinations of the two tables. CROSS JOINs can be useful in situations where you want to generate all possible pairings between two tables or to generate test data for analysis. However, they should be used with caution as they can result in large tables that may be difficult to manage or analyze."
   ],
   "attachments": {},
   "metadata": {
    "datalore": {
     "node_id": "RFfoicC9jbjsK4g3UqOPz0",
     "type": "MD",
     "hide_input_from_viewers": false,
     "hide_output_from_viewers": false,
     "report_properties": {
      "rowId": "wLy924bzwlrCPR265Nt9oU",
      "relativeY": 0
     }
    }
   }
  },
  {
   "cell_type": "markdown",
   "source": [
    "#### A table of two cities \n",
    "This exercise looks to explore languages potentially and most frequently spoken in the cities of Hyderabad, India and Hyderabad, Pakistan.\n",
    "\n",
    "***Instructions:*** \n",
    "1. Create a CROSS JOIN with cities AS c on the left and languages AS l on the right.\n",
    "2. Make use of LIKE and Hyder% to choose Hyderabad in both countries.\n",
    "3. Select only the city name AS city and language name AS language."
   ],
   "attachments": {},
   "metadata": {
    "datalore": {
     "node_id": "d2cpGsUFQbXIflORFDQKTx",
     "type": "MD",
     "hide_input_from_viewers": false,
     "hide_output_from_viewers": false,
     "report_properties": {
      "rowId": "g5yGpTW2lnufg6Dq0mwf9j",
      "relativeY": 0
     }
    }
   }
  },
  {
   "cell_type": "code",
   "source": [
    "-- Select fields\n",
    "SELECT c.name AS city, l.name AS language\n",
    "-- From cities (alias as c)\n",
    "FROM cities AS c        \n",
    "  -- Join to languages (alias as l)\n",
    "  CROSS JOIN languages AS l\n",
    "-- Where c.name like Hyderabad\n",
    "WHERE c.name LIKE 'Hyder%';"
   ],
   "execution_count": null,
   "outputs": [],
   "metadata": {
    "datalore": {
     "node_id": "NNKVVt1DkRpJ6b4xBiVWjs",
     "type": "SQL",
     "hide_input_from_viewers": false,
     "hide_output_from_viewers": false,
     "report_properties": {
      "rowId": "dxELMaCEfnTDCmmBYQYenR",
      "relativeY": 0
     },
     "sql_cell_properties": {
      "variableName": "df_28"
     }
    }
   }
  },
  {
   "cell_type": "markdown",
   "source": [
    "***Instructions*** \n",
    "1. Use an INNER JOIN instead of a CROSS JOIN. Think about what the difference will be in the results for this INNER JOIN result and the one for the CROSS JOIN."
   ],
   "attachments": {},
   "metadata": {
    "datalore": {
     "node_id": "nrOoWL4opJvj6lDXM8kyLI",
     "type": "MD",
     "hide_input_from_viewers": false,
     "hide_output_from_viewers": false,
     "report_properties": {
      "rowId": "jLOO0vlynfUFvx2K3I0Trm",
      "relativeY": 0
     }
    }
   }
  },
  {
   "cell_type": "code",
   "source": [
    "-- Select fields\n",
    "SELECT c.name AS city, l.name AS language\n",
    "-- From cities (alias as c)\n",
    "FROM cities AS c        \n",
    "  -- Join to languages (alias as l)\n",
    "  INNER JOIN languages AS l\n",
    "    -- Match on country code\n",
    "    ON c.country_code = l.code\n",
    "-- Where c.name like Hyderabad\n",
    "WHERE c.name LIKE 'Hyder%';"
   ],
   "execution_count": null,
   "outputs": [],
   "metadata": {
    "datalore": {
     "node_id": "UAs7MLPEogGQyYYUlUSdjQ",
     "type": "SQL",
     "hide_input_from_viewers": false,
     "hide_output_from_viewers": false,
     "report_properties": {
      "rowId": "shVY3QK66SVzTz2j20SE3H",
      "relativeY": 0
     },
     "sql_cell_properties": {
      "variableName": "df_29"
     }
    }
   }
  },
  {
   "cell_type": "markdown",
   "source": [
    "### Outer challenge\n",
    "Now that you're fully equipped to use OUTER JOINs, try a challenge problem to test your knowledge!\n",
    "\n",
    "In terms of life expectancy for 2010, determine the names of the lowest five countries and their regions.\n",
    "\n",
    "***Instructions*** \n",
    "1. Select country name AS country, region, and life expectancy AS life_exp.\n",
    "2. Make sure to use LEFT JOIN, WHERE, ORDER BY, and LIMIT."
   ],
   "attachments": {},
   "metadata": {
    "datalore": {
     "node_id": "ulKqf2gc6nWj26JPpUnHGU",
     "type": "MD",
     "hide_input_from_viewers": false,
     "hide_output_from_viewers": false,
     "report_properties": {
      "rowId": "N55BPcKX1ElLIt8EeP76GJ",
      "relativeY": 0
     }
    }
   }
  },
  {
   "cell_type": "code",
   "source": [
    "-- Select fields\n",
    "SELECT c.name AS country,\n",
    "       region,\n",
    "       life_expectancy AS life_exp\n",
    "-- From countries (alias as c)\n",
    "FROM countries AS c\n",
    "  -- Join to populations (alias as p)\n",
    "  LEFT JOIN populations AS p\n",
    "    -- Match on country code\n",
    "    ON c.code = p.country_code\n",
    "-- Focus on 2010\n",
    "WHERE year = 2010\n",
    "-- Order by life_exp\n",
    "ORDER BY life_exp\n",
    "-- Limit to 5 records\n",
    "LIMIT 5;"
   ],
   "execution_count": null,
   "outputs": [],
   "metadata": {
    "datalore": {
     "node_id": "xLBz6EMtrynbisQYvZNI1b",
     "type": "SQL",
     "hide_input_from_viewers": false,
     "hide_output_from_viewers": false,
     "report_properties": {
      "rowId": "qalOABD4AN5vHQV8batjGg",
      "relativeY": 0
     },
     "sql_cell_properties": {
      "variableName": "df_30"
     }
    }
   }
  },
  {
   "cell_type": "markdown",
   "source": [
    "## Set Theory Clauses \n",
    "In this chapter, you'll learn more about set theory using Venn diagrams and get an introduction to union, union all, intersect, and except clauses. You'll finish by investigating semi joins and anti joins, which provide a nice introduction to subqueries.\n",
    "\n",
    "Chapter 3 of the material focuses on set theory clauses, specifically the operations of UNION and UNION ALL. The video explains how Venn diagrams can be used to represent set operations, where each circle represents a table of data and the shading represents what is included in the result of the set operation from each table. UNION includes every record in both tables but does not double-count those that are in both tables, while UNION ALL includes every record in both tables and does replicate those that are in both tables. The video then provides diagrams and examples of UNION and UNION ALL operations on tables with one field, as well as the monarchs table in the leaders database. The resulting table from the UNION gives all the leaders and their corresponding country. The video concludes by explaining that UNION and UNION ALL clauses stack records on top of each other from one table to the next without doing a lookup step."
   ],
   "attachments": {},
   "metadata": {
    "datalore": {
     "node_id": "dLj9OhXsEKbNkuxPXBMinV",
     "type": "MD",
     "hide_input_from_viewers": false,
     "hide_output_from_viewers": false,
     "report_properties": {
      "rowId": "yhCCA2UjE1xXBzfTvk83fX",
      "relativeY": 0
     }
    }
   }
  },
  {
   "cell_type": "markdown",
   "source": [
    "### Union \n",
    "\n",
    "You have two new tables, economies2010 and economies2015, available to you. The economies table is also included for reference.\n",
    "\n",
    "***Instructions***\n",
    "Combine the two new tables into one table containing all of the fields in economies2010.\n",
    "Sort this resulting single table by country code and then by year, both in ascending order."
   ],
   "attachments": {},
   "metadata": {
    "datalore": {
     "node_id": "FLcnUGbSoWvIqy1Zlma79q",
     "type": "MD",
     "hide_input_from_viewers": true,
     "hide_output_from_viewers": true
    }
   }
  },
  {
   "cell_type": "code",
   "source": [
    "-- Select fields from 2010 table\n",
    "SELECT *\n",
    "  -- From 2010 table\n",
    "  FROM economies2010\n",
    "    -- Set theory clause\n",
    "    UNION\n",
    "-- Select fields from 2015 table\n",
    "SELECT *\n",
    "  -- From 2015 table\n",
    "  FROM economies2015\n",
    "-- Order by code and year\n",
    "ORDER BY code, year;"
   ],
   "execution_count": null,
   "outputs": [],
   "metadata": {
    "datalore": {
     "node_id": "438STF7PptR3WMbEe9zVzP",
     "type": "SQL",
     "hide_input_from_viewers": true,
     "hide_output_from_viewers": true,
     "sql_cell_properties": {
      "variableName": "df_31"
     }
    }
   }
  },
  {
   "cell_type": "markdown",
   "source": [
    "#### Union (2)\n",
    "\n",
    "UNION can also be used to determine all occurrences of a field across multiple tables. Try out this exercise with no starter code.\n",
    "\n",
    "***Instructions:***\n",
    "1. Determine all (non-duplicated) country codes in either the cities or the currencies table. The result should be a table with only one field called country_code.\n",
    "2. Sort by country_code in alphabetical order."
   ],
   "attachments": {},
   "metadata": {
    "datalore": {
     "node_id": "md7KFSGa2YdLfhVPVYjg3B",
     "type": "MD",
     "hide_input_from_viewers": true,
     "hide_output_from_viewers": true
    }
   }
  },
  {
   "cell_type": "code",
   "source": [
    "-- Select field\n",
    "SELECT country_code\n",
    "  -- From cities\n",
    "  FROM cities\n",
    "\t-- Set theory clause\n",
    "\tUNION\n",
    "-- Select field\n",
    "SELECT code\n",
    "  -- From currencies\n",
    "  FROM currencies\n",
    "-- Order by country_code\n",
    "ORDER BY country_code;"
   ],
   "execution_count": null,
   "outputs": [],
   "metadata": {
    "datalore": {
     "node_id": "15xPZnSYMIzLmZjkMEEbdE",
     "type": "SQL",
     "hide_input_from_viewers": true,
     "hide_output_from_viewers": true,
     "sql_cell_properties": {
      "variableName": "df_32"
     }
    }
   }
  },
  {
   "cell_type": "markdown",
   "source": [
    "#### Union all\n",
    "\n",
    "As you saw, duplicates were removed from the previous two exercises by using UNION.\n",
    "\n",
    "To include duplicates, you can use UNION ALL.\n",
    "\n",
    "***Instructions***\n",
    "1) Determine all combinations (include duplicates) of country code and year that exist in either the economies or the populations tables. Order by code then year.\n",
    "2) The result of the query should only have two columns/fields. Think about how many records this query should result in.\n",
    "3) You'll use code very similar to this in your next exercise after the video. Make note of this code after completing it."
   ],
   "attachments": {},
   "metadata": {
    "datalore": {
     "node_id": "HHe5cR6kd2fsnLWerrpi7Y",
     "type": "MD",
     "hide_input_from_viewers": true,
     "hide_output_from_viewers": true
    }
   }
  },
  {
   "cell_type": "code",
   "source": [
    "-- Select fields\n",
    "SELECT code, year\n",
    "  -- From economies\n",
    "  FROM economies\n",
    "\t-- Set theory clause\n",
    "\tUNION ALL\n",
    "-- Select fields\n",
    "SELECT country_code, year\n",
    "  -- From populations\n",
    "  FROM populations\n",
    "-- Order by code, year\n",
    "ORDER BY code, year;"
   ],
   "execution_count": null,
   "outputs": [],
   "metadata": {
    "datalore": {
     "node_id": "N1cqrShlCQMIkKL3cDFtQP",
     "type": "SQL",
     "hide_input_from_viewers": true,
     "hide_output_from_viewers": true,
     "sql_cell_properties": {
      "variableName": "df_33"
     }
    }
   }
  },
  {
   "cell_type": "markdown",
   "source": [
    "### INTERSECTional Data Science"
   ],
   "attachments": {},
   "metadata": {
    "datalore": {
     "node_id": "NYLiJR8hqX4WbGG8EfFAu8",
     "type": "MD",
     "hide_input_from_viewers": true,
     "hide_output_from_viewers": true
    }
   }
  },
  {
   "cell_type": "markdown",
   "source": [
    "#### Intersect \n",
    "UNION ALL will extract all records from two tables, while INTERSECT will only return records that both tables have in common. In this exercise, you will create a similar query as before, however, this time you will look at the records in common for country code and year for the economies and populations tables.\n",
    "\n",
    "Note the number of records from the result of this query compared to the similar UNION ALL query result of 814 records.\n",
    "\n",
    "***Instructions:***\n",
    "* Use INTERSECT to determine the records in common for country code and year for the economies and populations tables.\n",
    "* Again, order by code and then by year, both in ascending order."
   ],
   "attachments": {},
   "metadata": {
    "datalore": {
     "node_id": "7AoUjm2rsianNJ09AplPyl",
     "type": "MD",
     "hide_input_from_viewers": true,
     "hide_output_from_viewers": true
    }
   }
  },
  {
   "cell_type": "code",
   "source": [
    "-- Select fields\n",
    "SELECT code, year\n",
    "  -- From economies\n",
    "  FROM economies\n",
    "\t-- Set theory clause\n",
    "\tINTERSECT\n",
    "-- Select fields\n",
    "SELECT country_code, year\n",
    "  -- From populations\n",
    "  FROM populations\n",
    "-- Order by code and year\n",
    "ORDER BY code, year;"
   ],
   "execution_count": null,
   "outputs": [],
   "metadata": {
    "datalore": {
     "node_id": "jrSrIQUvkwbCTng4UGdQD1",
     "type": "SQL",
     "hide_input_from_viewers": true,
     "hide_output_from_viewers": true,
     "sql_cell_properties": {
      "variableName": "df_34"
     }
    }
   }
  },
  {
   "cell_type": "markdown",
   "source": [
    "#### Intersect (2)\n",
    "As you think about major world cities and their corresponding country, you may ask which countries also have a city with the same name as their country name?"
   ],
   "attachments": {},
   "metadata": {
    "datalore": {
     "node_id": "19brIant9xUDI5JM8GESAX",
     "type": "MD",
     "hide_input_from_viewers": true,
     "hide_output_from_viewers": true
    }
   }
  },
  {
   "cell_type": "code",
   "source": [
    "-- Select fields\n",
    "SELECT name\n",
    "  -- From countries\n",
    "  FROM countries\n",
    "\t-- Set theory clause\n",
    "\tINTERSECT\n",
    "-- Select fields\n",
    "SELECT name\n",
    "  -- From cities\n",
    "  FROM cities;"
   ],
   "execution_count": null,
   "outputs": [],
   "metadata": {
    "datalore": {
     "node_id": "tRvkMGMAlIFP3qLmsaaMXP",
     "type": "SQL",
     "hide_input_from_viewers": true,
     "hide_output_from_viewers": true,
     "sql_cell_properties": {
      "variableName": "df_35"
     }
    }
   }
  },
  {
   "cell_type": "markdown",
   "source": [
    "### EXCEPTional"
   ],
   "attachments": {},
   "metadata": {
    "datalore": {
     "node_id": "Hbl2g3bJA4YjWA5qzdkqal",
     "type": "MD",
     "hide_input_from_viewers": true,
     "hide_output_from_viewers": true
    }
   }
  },
  {
   "cell_type": "markdown",
   "source": [
    "#### Except\n",
    "Get the names of cities in cities which are not noted as capital cities in countries as a single field result.\n",
    "\n",
    "Note that there are some countries in the world that are not included in the countries table, which will result in some cities not being labeled as capital cities when in fact they are.\n",
    "\n",
    "***Instructions***\n",
    "* Order the resulting field in ascending order.\n",
    "* Can you spot the city/cities that are actually capital cities which this query misses?"
   ],
   "attachments": {},
   "metadata": {
    "datalore": {
     "node_id": "WUoIskfoLFMGIFDKKz75dh",
     "type": "MD",
     "hide_input_from_viewers": true,
     "hide_output_from_viewers": true
    }
   }
  },
  {
   "cell_type": "code",
   "source": [
    "-- Select field\n",
    "SELECT name\n",
    "  -- From cities\n",
    "  FROM cities\n",
    "\t-- Set theory clause\n",
    "\tEXCEPT\n",
    "-- Select field\n",
    "SELECT capital\n",
    "  -- From countries\n",
    "  FROM countries\n",
    "-- Order by result\n",
    "ORDER BY name;"
   ],
   "execution_count": null,
   "outputs": [],
   "metadata": {
    "datalore": {
     "node_id": "jIsYvGmupo6XWdxyhVuAIQ",
     "type": "SQL",
     "hide_input_from_viewers": true,
     "hide_output_from_viewers": true,
     "sql_cell_properties": {
      "variableName": "df_36"
     }
    }
   }
  },
  {
   "cell_type": "markdown",
   "source": [
    "#### Except (2)\n",
    "\n",
    "Now you will complete the previous query in reverse!\n",
    "\n",
    "Determine the names of capital cities that are not listed in the cities table.\n",
    "\n",
    "***Instructions:***\n",
    "* Order by capital in ascending order.\n",
    "* The cities table contains information about 236 of the world's most populous cities. The result of your query may surprise you in terms of the number of capital cities that do not appear in this list!"
   ],
   "attachments": {},
   "metadata": {
    "datalore": {
     "node_id": "QgyypI1gSpDRtYKKkLbvaL",
     "type": "MD",
     "hide_input_from_viewers": true,
     "hide_output_from_viewers": true
    }
   }
  },
  {
   "cell_type": "code",
   "source": [
    "-- Select field\n",
    "SELECT capital\n",
    "  -- From countries\n",
    "  FROM countries\n",
    "\t-- Set theory clause\n",
    "\tEXCEPT\n",
    "-- Select field\n",
    "SELECT name\n",
    "  -- From cities\n",
    "  FROM cities\n",
    "-- Order by ascending capital\n",
    "ORDER BY capital;"
   ],
   "execution_count": null,
   "outputs": [],
   "metadata": {
    "datalore": {
     "node_id": "Vvg218X1z01RlS2ieVl2NL",
     "type": "SQL",
     "hide_input_from_viewers": true,
     "hide_output_from_viewers": true,
     "sql_cell_properties": {
      "variableName": "df_37"
     }
    }
   }
  },
  {
   "cell_type": "markdown",
   "source": [
    "### Semi-Joins and Anti-Joins"
   ],
   "attachments": {},
   "metadata": {
    "datalore": {
     "node_id": "uL66x9yAeAjfqkQIpUCHOr",
     "type": "MD",
     "hide_input_from_viewers": true,
     "hide_output_from_viewers": true
    }
   }
  },
  {
   "cell_type": "markdown",
   "source": [
    "#### Semi-Join \n",
    "You are now going to use the concept of a semi-join to identify languages spoken in the Middle East.\n",
    "\n",
    "***Instructions:***\n",
    "Begin by selecting all country codes in the Middle East as a single field result using SELECT, FROM, and WHERE."
   ],
   "attachments": {},
   "metadata": {
    "datalore": {
     "node_id": "q4QgRgodl9uPWwnkoLISe2",
     "type": "MD",
     "hide_input_from_viewers": true,
     "hide_output_from_viewers": true
    }
   }
  },
  {
   "cell_type": "code",
   "source": [
    "-- Select code\n",
    "SELECT code\n",
    "  -- From countries\n",
    "  FROM countries\n",
    "-- Where region is Middle East\n",
    "WHERE region = 'Middle East';"
   ],
   "execution_count": null,
   "outputs": [],
   "metadata": {
    "datalore": {
     "node_id": "GEfKiqV8U2fsoxHBXwCcrE",
     "type": "SQL",
     "hide_input_from_viewers": true,
     "hide_output_from_viewers": true,
     "sql_cell_properties": {
      "variableName": "df_38"
     }
    }
   }
  },
  {
   "cell_type": "markdown",
   "source": [
    "***Instructions (2)***\n",
    "Below the commented code, select only unique languages by name appearing in the languages table.\n",
    "Order the resulting single field table by name in ascending order."
   ],
   "attachments": {},
   "metadata": {
    "datalore": {
     "node_id": "znFT7bZwChsWeEceoANFam",
     "type": "MD",
     "hide_input_from_viewers": true,
     "hide_output_from_viewers": true
    }
   }
  },
  {
   "cell_type": "code",
   "source": [
    "-- Query from step 1:\n",
    "/*\n",
    "SELECT code\n",
    "  FROM countries\n",
    "WHERE region = 'Middle East';\n",
    "*/\n",
    "\n",
    "-- Select field\n",
    "SELECT DISTINCT name\n",
    "  -- From languages\n",
    "  FROM languages\n",
    "-- Order by name\n",
    "ORDER BY name;"
   ],
   "execution_count": null,
   "outputs": [],
   "metadata": {
    "datalore": {
     "node_id": "vJlPvzXHl152Z6pTA5hCPd",
     "type": "SQL",
     "hide_input_from_viewers": true,
     "hide_output_from_viewers": true,
     "sql_cell_properties": {
      "variableName": "df_39"
     }
    }
   }
  },
  {
   "cell_type": "markdown",
   "source": [
    "***Instructions (3)*** \n",
    "- Combine the previous two queries into one query by adding a WHERE IN statement to the SELECT DISTINCT query to determine the unique languages spoken in the Middle East.\n",
    "- Order the result by name in ascending order."
   ],
   "attachments": {},
   "metadata": {
    "datalore": {
     "node_id": "Ge1pNuIdcinch7hdDZPlLW",
     "type": "MD",
     "hide_input_from_viewers": true,
     "hide_output_from_viewers": true
    }
   }
  },
  {
   "cell_type": "code",
   "source": [
    "-- Query from step 2\n",
    "SELECT DISTINCT name\n",
    "  FROM languages\n",
    "-- Where in statement\n",
    "WHERE code IN\n",
    "  -- Query from step 1\n",
    "  -- Subquery\n",
    "  (SELECT code\n",
    "   FROM countries\n",
    "   WHERE region = 'Middle East')\n",
    "-- Order by name\n",
    "ORDER BY name;"
   ],
   "execution_count": null,
   "outputs": [],
   "metadata": {
    "datalore": {
     "node_id": "uyoJuFfGuMwJo6Ih5oXJwH",
     "type": "SQL",
     "hide_input_from_viewers": true,
     "hide_output_from_viewers": true,
     "sql_cell_properties": {
      "variableName": "df_40"
     }
    }
   }
  },
  {
   "cell_type": "markdown",
   "source": [
    "### Diagnosing problems using anti-join \n",
    "Another powerful join in SQL is the anti-join. It is particularly useful in identifying which records are causing an incorrect number of records to appear in join queries.\n",
    "\n",
    "You will also see another example of a subquery here, as you saw in the first exercise on semi-joins. Your goal is to identify the currencies used in Oceanian countries!\n",
    "\n",
    "***Instructions (1):*** \n",
    "\n",
    "- Begin by determining the number of countries in countries that are listed in Oceania using SELECT, FROM, and WHERE."
   ],
   "attachments": {},
   "metadata": {
    "datalore": {
     "node_id": "k8OEWOFLOL9C4pgMM6oEhg",
     "type": "MD",
     "hide_input_from_viewers": true,
     "hide_output_from_viewers": true
    }
   }
  },
  {
   "cell_type": "code",
   "source": [
    "-- Select statement\n",
    "SELECT COUNT(*)\n",
    "  -- From countries\n",
    "  FROM countries\n",
    "-- Where continent is Oceania\n",
    "WHERE continent = 'Oceania';"
   ],
   "execution_count": null,
   "outputs": [],
   "metadata": {
    "datalore": {
     "node_id": "PvlvJlS7m9gDfUcacSi18c",
     "type": "SQL",
     "hide_input_from_viewers": true,
     "hide_output_from_viewers": true,
     "sql_cell_properties": {
      "variableName": "df_42"
     }
    }
   }
  },
  {
   "cell_type": "markdown",
   "source": [
    "***Instructions (2):***\n",
    "- Complete an inner join with countries AS c1 on the left and currencies AS c2 on the right to get the different currencies used in the countries of Oceania.\n",
    "- Match ON the code field in the two tables.\n",
    "- Include the country code, country name, and basic_unit AS currency.\n",
    "- Observe the query result and make note of how many different countries are listed here."
   ],
   "attachments": {},
   "metadata": {
    "datalore": {
     "node_id": "50hSLNYU4z4VrNKDYFYpQb",
     "type": "MD",
     "hide_input_from_viewers": true,
     "hide_output_from_viewers": true
    }
   }
  },
  {
   "cell_type": "code",
   "source": [
    "-- Select fields (with aliases)\n",
    "SELECT c1.code, name, basic_unit AS currency\n",
    "  -- From countries (alias as c1)\n",
    "  FROM countries AS c1\n",
    "  \t-- Join with currencies (alias as c2)\n",
    "  \tINNER JOIN currencies AS c2\n",
    "    -- Match on code\n",
    "    ON c1.code = c2.code\n",
    "-- Where continent is Oceania\n",
    "WHERE c1.continent = 'Oceania';"
   ],
   "execution_count": 3,
   "outputs": [],
   "metadata": {
    "datalore": {
     "node_id": "HYHBjsQpLdGHkpwLTFAFqH",
     "type": "SQL",
     "hide_input_from_viewers": true,
     "hide_output_from_viewers": true,
     "sql_cell_properties": {
      "dbId": "jOyGqCiILoIjpITFFDsrSH",
      "variableName": "df_45",
      "dialect": "postgresql"
     }
    }
   }
  },
  {
   "cell_type": "markdown",
   "source": [
    "***Instructions (3)***\n",
    "- Note that not all countries in Oceania were listed in the resulting inner join with currencies. Use an anti-join to determine which countries were not included!\n",
    "- Use NOT IN and (SELECT code FROM currencies) as a subquery to get the country code and country name for the Oceanian countries that are not included in the currencies table."
   ],
   "attachments": {},
   "metadata": {
    "datalore": {
     "node_id": "as1qAWR6dgyyhLGrk7oUct",
     "type": "MD",
     "hide_input_from_viewers": true,
     "hide_output_from_viewers": true
    }
   }
  },
  {
   "cell_type": "code",
   "source": [
    "-- Select fields\n",
    "SELECT code, name\n",
    "  -- From Countries\n",
    "  FROM countries\n",
    "  -- Where continent is Oceania\n",
    "  WHERE continent = 'Oceania'\n",
    "  \t-- And code not in\n",
    "  \tAND code NOT IN\n",
    "  \t-- Subquery\n",
    "  \t(SELECT code\n",
    "  \t FROM currencies);"
   ],
   "execution_count": 4,
   "outputs": [],
   "metadata": {
    "datalore": {
     "node_id": "1jVX6Nua3R1F8WjYSSceua",
     "type": "SQL",
     "hide_input_from_viewers": true,
     "hide_output_from_viewers": true,
     "sql_cell_properties": {
      "dbId": "jOyGqCiILoIjpITFFDsrSH",
      "variableName": "df_46",
      "dialect": "postgresql"
     }
    }
   }
  },
  {
   "cell_type": "markdown",
   "source": [
    "### Set Theory Challenge\n",
    "\n",
    "Congratulations! You've now made your way to the challenge problem for this third chapter. Your task here will be to incorporate two of UNION/UNION ALL/INTERSECT/EXCEPT to solve a challenge involving three tables.\n",
    "\n",
    "In addition, you will use a subquery as you have in the last two exercises! This will be great practice as you hop into subqueries more in Chapter 4!\n",
    "\n",
    "***Instructions (1)***\n",
    "- Identify the country codes that are included in either economies or currencies but not in populations.\n",
    "- Use that result to determine the names of cities in the countries that match the specification in the previous instruction."
   ],
   "attachments": {},
   "metadata": {
    "datalore": {
     "node_id": "PJOaevyHJa6JMRQg0OZ8pj",
     "type": "MD",
     "hide_input_from_viewers": true,
     "hide_output_from_viewers": true
    }
   }
  },
  {
   "cell_type": "code",
   "source": [
    "-- Select the city name\n",
    "SELECT name\n",
    "  -- Alias the table where city name resides\n",
    "  FROM cities AS c1\n",
    "  -- Choose only records matching the result of multiple set theory clauses\n",
    "  WHERE country_code IN\n",
    "(\n",
    "    -- Select appropriate field from economies AS e\n",
    "    SELECT e.code\n",
    "    FROM economies AS e\n",
    "    -- Get all additional (unique) values of the field from currencies AS c2   \n",
    "    UNION\n",
    "    SELECT c2.code\n",
    "    FROM currencies AS c2\n",
    "    -- Exclude those appearing in populations AS p  \n",
    "    EXCEPT\n",
    "    SELECT p.country_code\n",
    "    FROM populations AS p\n",
    ");"
   ],
   "execution_count": null,
   "outputs": [],
   "metadata": {
    "datalore": {
     "node_id": "QyAjZH2n3H9IWD8C4mdPbK",
     "type": "SQL",
     "hide_input_from_viewers": true,
     "hide_output_from_viewers": true,
     "sql_cell_properties": {
      "dbId": "jOyGqCiILoIjpITFFDsrSH",
      "variableName": "df_47",
      "dialect": "postgresql"
     }
    }
   }
  },
  {
   "cell_type": "markdown",
   "source": [
    "## Subqueries\n",
    "In this closing chapter, you'll learn how to use nested queries and you'll use what you’ve learned in this course to solve three challenge problems.\n",
    "\n",
    "This text is a summary of the last chapter of a course on SQL queries. The chapter is focused on subqueries, also known as nested queries, which are queries embedded inside other queries. The text explains the most common types of subqueries, which are those inside the WHERE and SELECT clauses. The chapter provides examples of using subqueries in both of these contexts.\n",
    "\n",
    "The first example shows how to use a subquery inside a WHERE clause to determine the average fertility rate across a group of countries. The chapter then uses this subquery to identify Asian countries with fertility rates below the average. The second example shows how to use a subquery inside a SELECT clause to count the number of countries listed in a table for each continent in another table. The chapter provides the stepwise approach to set up this query.\n",
    "\n",
    "The text also emphasizes the importance of giving subqueries an alias, especially when used in a SELECT clause. The chapter concludes with practice exercises to test subquery expertise.\n",
    "\n",
    "***Analogy*** \n",
    "- Think of subqueries like nesting dolls. Just like how nesting dolls have smaller dolls inside a larger doll, subqueries have queries inside other queries.\n",
    "  \n",
    "- Subqueries are important because they allow you to break down complex problems into smaller, more manageable pieces. This makes it easier to write and understand SQL queries.\n",
    "  \n",
    "- Using subqueries is like solving a puzzle. You have a big picture that you want to solve, but it can be overwhelming to tackle all at once. So, you break it down into smaller pieces and solve each one separately. Once all the pieces are solved, you can put them back together to see the bigger picture."
   ],
   "attachments": {},
   "metadata": {
    "datalore": {
     "node_id": "ZRnZrm8X8KcjViWtLLGaq8",
     "type": "MD",
     "hide_input_from_viewers": false,
     "hide_output_from_viewers": false,
     "report_properties": {
      "rowId": "4Bhn7ggKIoNyxD1qxuhvfi",
      "relativeY": 0
     }
    }
   }
  },
  {
   "cell_type": "markdown",
   "source": [
    "#### Subquery inside Where\n",
    "You'll now try to figure out which countries had high average life expectancies (at the country level) in 2015.\n",
    "\n",
    "***Instructions (1)*** \n",
    "* Begin by calculating the average life expectancy across all countries for 2015."
   ],
   "attachments": {},
   "metadata": {
    "datalore": {
     "node_id": "PcWaS9onS4nVdgTtMdFMW8",
     "type": "MD",
     "hide_input_from_viewers": true,
     "hide_output_from_viewers": true
    }
   }
  },
  {
   "cell_type": "code",
   "source": [
    "-- Select average life_expectancy\n",
    "SELECT AVG(life_expectancy)\n",
    "  -- From populations\n",
    "  FROM populations\n",
    "-- Where year is 2015\n",
    "WHERE year = 2015;"
   ],
   "execution_count": null,
   "outputs": [],
   "metadata": {
    "datalore": {
     "node_id": "gZNuzMWUh4yPAQ7DeKHV0b",
     "type": "SQL",
     "hide_input_from_viewers": true,
     "hide_output_from_viewers": true,
     "sql_cell_properties": {
      "dbId": "jOyGqCiILoIjpITFFDsrSH",
      "variableName": "df_48",
      "dialect": "postgresql"
     }
    }
   }
  },
  {
   "cell_type": "markdown",
   "source": [
    "***Instructions (2)***\n",
    "\n",
    "Select all fields from populations with records corresponding to larger than 1.15 times the average you calculated in the first task for 2015. In other words, change the 100 in the example above with a subquery."
   ],
   "attachments": {},
   "metadata": {
    "datalore": {
     "node_id": "uqeSCV3DNe7y3Yw4VM4xqf",
     "type": "MD",
     "hide_input_from_viewers": true,
     "hide_output_from_viewers": true
    }
   }
  },
  {
   "cell_type": "code",
   "source": [
    "-- Select fields\n",
    "SELECT *\n",
    "  -- From populations\n",
    "  FROM populations\n",
    "-- Where life_expectancy is greater than\n",
    "WHERE life_expectancy >\n",
    "  -- 1.15 * subquery\n",
    "  1.15 * (SELECT AVG(life_expectancy)\n",
    "   FROM populations\n",
    "   WHERE year = 2015) AND\n",
    "  year = 2015;"
   ],
   "execution_count": null,
   "outputs": [],
   "metadata": {
    "datalore": {
     "node_id": "ruhs0CbnFPJt8Uau1hPcyI",
     "type": "SQL",
     "hide_input_from_viewers": true,
     "hide_output_from_viewers": true,
     "sql_cell_properties": {
      "dbId": "jOyGqCiILoIjpITFFDsrSH",
      "variableName": "df_49",
      "dialect": "postgresql"
     }
    }
   }
  },
  {
   "cell_type": "markdown",
   "source": [
    "#### Subquery inside where (2)\n",
    "\n",
    "Use your knowledge of subqueries in WHERE to get the urban area population for only capital cities.\n",
    "\n",
    "***Instructions (1)***\n",
    "\n",
    "* Make use of the capital field in the countries table in your subquery.\n",
    "* Select the city name, country code, and urban area population fields."
   ],
   "attachments": {},
   "metadata": {
    "datalore": {
     "node_id": "1XsMIDciafAbtN8bpnDt3o",
     "type": "MD",
     "hide_input_from_viewers": true,
     "hide_output_from_viewers": true
    }
   }
  },
  {
   "cell_type": "code",
   "source": [
    "-- Select fields\n",
    "SELECT name, country_code, urbanarea_pop\n",
    "  -- From cities\n",
    "  FROM cities\n",
    "-- Where city name in the field of capital cities\n",
    "WHERE name IN\n",
    "  -- Subquery\n",
    "  (SELECT capital\n",
    "   FROM countries)\n",
    "ORDER BY urbanarea_pop DESC;"
   ],
   "execution_count": null,
   "outputs": [],
   "metadata": {
    "datalore": {
     "node_id": "8FLA723AyDnPaapfIBazJj",
     "type": "SQL",
     "hide_input_from_viewers": true,
     "hide_output_from_viewers": true,
     "sql_cell_properties": {
      "dbId": "jOyGqCiILoIjpITFFDsrSH",
      "variableName": "df_50",
      "dialect": "postgresql"
     }
    }
   }
  },
  {
   "cell_type": "markdown",
   "source": [
    "### Subquery inside select \n",
    "\n",
    "In this exercise, you'll see how some queries can be written using either a join or a subquery.\n",
    "\n",
    "You have seen previously how to use GROUP BY with aggregate functions and an inner join to get summarized information from multiple tables.\n",
    "\n",
    "The code given in the first query selects the top nine countries in terms of number of cities appearing in the cities table. Recall that this corresponds to the most populous cities in the world. Your task will be to convert the second query to get the same result as the provided code.\n",
    "\n",
    "***Summarization***\n",
    "* In this exercise, you'll learn how to use either a join or a subquery to write queries that summarize information from multiple tables. The goal is to select the top nine countries with the most populous cities in the world. The first query uses an inner join and aggregate functions to achieve this, while the second query is incomplete and requires you to use a subquery to get the same result as the first query.\n",
    "\n",
    "***Analogy***\n",
    "- This exercise is like baking a cake. You have two different recipes to choose from - one that uses a whisk and a mixing bowl to combine the ingredients, and another that uses a blender. Both recipes will give you a delicious cake, but the process is slightly different. Similarly, in SQL, you can use either a join or a subquery to get summarized information from multiple tables. The first query provided in the exercise uses an inner join to select the top nine countries with the most populous cities in the world, while the second query is incomplete and requires you to use a subquery to achieve the same result as the first query.\n",
    "\n",
    "***Instructions (1)***\n",
    "submit the code"
   ],
   "attachments": {},
   "metadata": {
    "datalore": {
     "node_id": "LlGDdwGE8ozXU2KJXV5LD7",
     "type": "MD",
     "hide_input_from_viewers": true,
     "hide_output_from_viewers": true
    }
   }
  },
  {
   "cell_type": "code",
   "source": [
    "SELECT countries.name AS country, COUNT(*) AS cities_num\n",
    "  FROM cities\n",
    "    INNER JOIN countries\n",
    "    ON countries.code = cities.country_code\n",
    "GROUP BY country\n",
    "ORDER BY cities_num DESC, country\n",
    "LIMIT 9;"
   ],
   "execution_count": null,
   "outputs": [],
   "metadata": {
    "datalore": {
     "node_id": "JEBoNF5MrbdjKz9DZPTJqr",
     "type": "SQL",
     "hide_input_from_viewers": true,
     "hide_output_from_viewers": true,
     "sql_cell_properties": {
      "dbId": "jOyGqCiILoIjpITFFDsrSH",
      "variableName": "df_51",
      "dialect": "postgresql"
     }
    }
   }
  },
  {
   "cell_type": "markdown",
   "source": [
    "***Instructions (2)***\n",
    "- Convert the GROUP BY code to use a subquery inside of SELECT by filling in the blanks to get a result that matches the one given using the GROUP BY code in the first query.\n",
    "- Again, sort the result by cities_num descending and then by country ascending."
   ],
   "attachments": {},
   "metadata": {
    "datalore": {
     "node_id": "e0VaBonTNhG9g4lUxpP6eI",
     "type": "MD",
     "hide_input_from_viewers": true,
     "hide_output_from_viewers": true
    }
   }
  },
  {
   "cell_type": "code",
   "source": [
    "/*\n",
    "SELECT countries.name AS country, COUNT(*) AS cities_num\n",
    "  FROM cities\n",
    "\t  INNER JOIN countries\n",
    "\t  ON countries.code = cities.country_code\n",
    "GROUP BY country\n",
    "ORDER BY cities_num DESC, country\n",
    "LIMIT 9;\n",
    "*/\n",
    "\n",
    "SELECT countries.name AS country,\n",
    "  -- Subquery\n",
    "  (SELECT COUNT(*)\n",
    "   FROM cities\n",
    "   WHERE countries.code = cities.country_code) AS cities_num\n",
    "FROM countries\n",
    "ORDER BY cities_num DESC, country\n",
    "LIMIT 9;"
   ],
   "execution_count": null,
   "outputs": [],
   "metadata": {
    "datalore": {
     "node_id": "h0yEjjW2VWDk2lNJbrwc3I",
     "type": "SQL",
     "hide_input_from_viewers": true,
     "hide_output_from_viewers": true,
     "sql_cell_properties": {
      "dbId": "jOyGqCiILoIjpITFFDsrSH",
      "variableName": "df_52",
      "dialect": "postgresql"
     }
    }
   }
  },
  {
   "cell_type": "markdown",
   "source": [
    "### Subquery inside FROM clause \n",
    "\n",
    "1. The article discusses the third type of subquery, which exists inside a FROM clause.\n",
    "2. The example used in the article is about determining the maximum percentage of women in parliament for each continent listed in the states table.\n",
    "3. Including the continent field in the SELECT clause is required since the query is grouping based on that field.\n",
    "4. A way to get the continents only in monarchs table is to include multiple tables in the FROM clause by adding a comma between them.\n",
    "5. To remove duplicate entries, use the DISTINCT command in the SELECT statement.\n",
    "6. To include the maximum column along with Asia and Europe, include the subquery in the FROM clause instead of states and alias it with a name like \"subquery\".\n",
    "7. This technique allows the subquery to act as a temporary table in the FROM clause.\n",
    "8. The article encourages readers to practice and test their understanding of subqueries and SQL in general.\n",
    "9. The exercises in the course are designed to challenge the reader and solidify their knowledge.\n",
    "\n",
    "***Analogy***\n",
    "\n",
    "* Imagine you're a chef who wants to make a dish that requires several ingredients from different suppliers. You need to know which supplier offers the best quality ingredients for each item in order to make the best dish possible. In this analogy, the suppliers represent the tables in a database, and the ingredients represent the data within those tables.\n",
    "  \n",
    "* You can use a subquery as a way of comparing the data from different tables to determine the best quality data for your final result. This is similar to how you might compare different suppliers to find the best quality ingredients. The subquery can be used to find the maximum value of a specific field within a table, and the data from this subquery can then be used to filter and join data from other tables.\n",
    "  \n",
    "* In order to use this technique, you must include all necessary fields in the SELECT statement, just as you would need to check all the relevant details when comparing suppliers. You also need to be careful to remove any duplicate data, just as you would avoid ordering the same ingredient from multiple suppliers.\n",
    "  \n",
    "* Ultimately, the goal is to use a subquery as a temporary table to help you combine data from multiple tables in the most efficient and effective way possible, just as a chef would combine the best ingredients from the best suppliers to create the best dish."
   ],
   "attachments": {},
   "metadata": {
    "datalore": {
     "node_id": "QZ6nBl3g9JYK1XkFbCARXQ",
     "type": "MD",
     "hide_input_from_viewers": true,
     "hide_output_from_viewers": true
    }
   }
  },
  {
   "cell_type": "markdown",
   "source": [
    "#### Subquery inside from\n",
    "The last type of subquery you will work with is one inside of FROM.\n",
    "\n",
    "You will use this to determine the number of languages spoken for each country, identified by the country's local name! (Note this may be different than the name field and is stored in the local_name field.)\n",
    "\n",
    "***Instructions (1)***\n",
    "- Begin by determining for each country code how many languages are listed in the languages table using SELECT, FROM, and GROUP BY.\n",
    "- Alias the aggregated field as lang_num."
   ],
   "attachments": {},
   "metadata": {
    "datalore": {
     "node_id": "mupz4bImwx4M2VhrECf6rg",
     "type": "MD",
     "hide_input_from_viewers": true,
     "hide_output_from_viewers": true
    }
   }
  },
  {
   "cell_type": "code",
   "source": [
    "-- Select fields (with aliases)\n",
    "SELECT code, COUNT(*) AS lang_num\n",
    "  -- From languages\n",
    "  FROM languages\n",
    "-- Group by code\n",
    "GROUP BY code;"
   ],
   "execution_count": null,
   "outputs": [],
   "metadata": {
    "datalore": {
     "node_id": "HRTZPfRCnI2KESMWkTTYrH",
     "type": "SQL",
     "hide_input_from_viewers": true,
     "hide_output_from_viewers": true,
     "sql_cell_properties": {
      "dbId": "jOyGqCiILoIjpITFFDsrSH",
      "variableName": "df_53",
      "dialect": "postgresql"
     }
    }
   }
  },
  {
   "cell_type": "markdown",
   "source": [
    "***Instructions (2)***\n",
    "\n",
    "1. Include the previous query (aliased as subquery) as a subquery in the FROM clause of a new query.\n",
    "   \n",
    "2. Select the local name of the country from countries.\n",
    "   \n",
    "3. Also, select lang_num from subquery.\n",
    "   \n",
    "4. Make sure to use WHERE appropriately to match code in countries and in subquery.\n",
    "   \n",
    "5. Sort by lang_num in descending order."
   ],
   "attachments": {},
   "metadata": {
    "datalore": {
     "node_id": "0lO3Mu7hD4Jkd3J6V7POwP",
     "type": "MD",
     "hide_input_from_viewers": true,
     "hide_output_from_viewers": true
    }
   }
  },
  {
   "cell_type": "code",
   "source": [
    "SELECT local_name, subquery.lang_num\n",
    "  FROM countries,\n",
    "  \t(SELECT code, COUNT(*) AS lang_num\n",
    "  \t FROM languages\n",
    "  \t GROUP BY code) AS subquery\n",
    "  WHERE countries.code = subquery.code\n",
    "ORDER BY lang_num DESC;"
   ],
   "execution_count": null,
   "outputs": [],
   "metadata": {
    "datalore": {
     "node_id": "5AcPvV3GtlXmQicuycbXI0",
     "type": "SQL",
     "hide_input_from_viewers": true,
     "hide_output_from_viewers": true,
     "sql_cell_properties": {
      "dbId": "jOyGqCiILoIjpITFFDsrSH",
      "variableName": "df_54",
      "dialect": "postgresql"
     }
    }
   }
  },
  {
   "cell_type": "markdown",
   "source": [
    "#### Advanced Subquery \n",
    "You can also nest multiple subqueries to answer even more specific questions.\n",
    "\n",
    "In this exercise, for each of the six continents listed in 2015, you'll identify which country had the maximum inflation rate, and how high it was, using multiple subqueries.\n",
    "\n",
    "***Instructions (1)***\n",
    "1. Create an INNER JOIN with countries on the left and economies on the right with USING, without aliasing your tables or columns.\n",
    "   \n",
    "2. Retrieve the country's name, continent, and inflation rate for 2015."
   ],
   "attachments": {},
   "metadata": {
    "datalore": {
     "node_id": "U3DzajxvqAuGiflygi1Tnq",
     "type": "MD",
     "hide_input_from_viewers": true,
     "hide_output_from_viewers": true
    }
   }
  },
  {
   "cell_type": "code",
   "source": [
    "-- Select fields\n",
    "SELECT name, continent, inflation_rate\n",
    "  -- From countries\n",
    "  FROM countries\n",
    "  \t-- Join to economies\n",
    "  \tINNER JOIN economies\n",
    "    -- Match on code\n",
    "    USING (code)\n",
    "-- Where year is 2015\n",
    "WHERE year = 2015;"
   ],
   "execution_count": null,
   "outputs": [],
   "metadata": {
    "datalore": {
     "node_id": "lMKwNaqgMRywCyROd56GSv",
     "type": "SQL",
     "hide_input_from_viewers": true,
     "hide_output_from_viewers": true,
     "sql_cell_properties": {
      "dbId": "jOyGqCiILoIjpITFFDsrSH",
      "variableName": "df_55",
      "dialect": "postgresql"
     }
    }
   }
  },
  {
   "cell_type": "markdown",
   "source": [
    "***Instructions (2)***\n",
    "Select the maximum inflation rate in 2015 AS max_inf grouped by continent using the previous step's query as a subquery in the FROM clause.\n",
    "\n",
    "Thus, in your subquery you should:\n",
    "1. Create an inner join with countries on the left and economies on the right with USING (without aliasing your tables or columns).\n",
    "   \n",
    "2. Retrieve the country name, continent, and inflation rate for 2015.\n",
    "   \n",
    "3. Alias the subquery as subquery.\n",
    "\n",
    "This will result in the six maximum inflation rates in 2015 for the six continents as one field table. Make sure to not include continent in the outer SELECT statement."
   ],
   "attachments": {},
   "metadata": {
    "datalore": {
     "node_id": "M39vN8XHwZOWXSyNZOh4E9",
     "type": "MD",
     "hide_input_from_viewers": true,
     "hide_output_from_viewers": true
    }
   }
  },
  {
   "cell_type": "code",
   "source": [
    "-- Select the maximum inflation rate as max_inf\n",
    "SELECT MAX(inflation_rate) AS max_inf\n",
    "  -- Subquery using FROM (alias as subquery)\n",
    "  FROM (\n",
    "      SELECT name, continent, inflation_rate\n",
    "      FROM countries\n",
    "      INNER JOIN economies\n",
    "      USING (code)\n",
    "      WHERE year = 2015) AS subquery\n",
    "-- Group by continent\n",
    "GROUP BY continent;"
   ],
   "execution_count": null,
   "outputs": [],
   "metadata": {
    "datalore": {
     "node_id": "OHnXNmC6e1b2IEpACPHcA0",
     "type": "SQL",
     "hide_input_from_viewers": true,
     "hide_output_from_viewers": true,
     "sql_cell_properties": {
      "dbId": "jOyGqCiILoIjpITFFDsrSH",
      "variableName": "df_56",
      "dialect": "postgresql"
     }
    }
   }
  },
  {
   "cell_type": "markdown",
   "source": [
    "***Instructions (3)***\n",
    "1) Now it's time to append your second query to your first query using AND and IN to obtain the name of the country, its continent, and the maximum inflation rate for each continent in 2015.\n",
    "2) For the sake of practice, change all joining conditions to use ON instead of USING."
   ],
   "attachments": {},
   "metadata": {
    "datalore": {
     "node_id": "Ua5juUQadcj3ESSH6AZiI2",
     "type": "MD",
     "hide_input_from_viewers": true,
     "hide_output_from_viewers": true
    }
   }
  },
  {
   "cell_type": "code",
   "source": [
    "-- Select fields\n",
    "SELECT name, continent, inflation_rate\n",
    "  -- From countries\n",
    "  FROM countries\n",
    "\t-- Join to economies\n",
    "\tINNER JOIN economies\n",
    "\t-- Match on code\n",
    "\tON countries.code = economies.code\n",
    "  -- Where year is 2015\n",
    "  WHERE year = 2015\n",
    "    -- And inflation rate in subquery (alias as subquery)\n",
    "    AND inflation_rate IN (\n",
    "        SELECT MAX(inflation_rate) AS max_inf\n",
    "        FROM (\n",
    "             SELECT name, continent, inflation_rate\n",
    "             FROM countries\n",
    "             INNER JOIN economies\n",
    "             ON countries.code = economies.code\n",
    "             WHERE year = 2015) AS subquery\n",
    "      -- Group by continent\n",
    "        GROUP BY continent);"
   ],
   "execution_count": null,
   "outputs": [],
   "metadata": {
    "datalore": {
     "node_id": "BJg33zxBbk0ZOuDJZ0m6RY",
     "type": "SQL",
     "hide_input_from_viewers": true,
     "hide_output_from_viewers": true,
     "sql_cell_properties": {
      "dbId": "jOyGqCiILoIjpITFFDsrSH",
      "variableName": "df_57",
      "dialect": "postgresql"
     }
    }
   }
  },
  {
   "cell_type": "markdown",
   "source": [
    "***XP:*** This code works since each of the six maximum inflation rate values occur only once in the 2015 data. Think about whether this particular code involving subqueries would work in cases where there are ties for the maximum inflation rate values."
   ],
   "attachments": {},
   "metadata": {
    "datalore": {
     "node_id": "LaI334tSh2puUnBW4QU1yF",
     "type": "MD",
     "hide_input_from_viewers": true,
     "hide_output_from_viewers": true
    }
   }
  },
  {
   "cell_type": "markdown",
   "source": [
    "#### Subquery Challenge\n",
    "\n",
    "Let's test your understanding of the subqueries with a challenge problem! Use a subquery to get 2015 economic data for countries that do not have\n",
    "\n",
    "1. gov_form of 'Constitutional Monarchy' or\n",
    "   \n",
    "2. 'Republic' in their gov_form.\n",
    "   \n",
    "Here, gov_form stands for the form of the government for each country. Review the different entries for gov_form in the countries table.\n",
    "\n",
    "***Instructions (1)***\n",
    "1. Select the country code, inflation rate, and unemployment rate.\n",
    "   \n",
    "2. Order by inflation rate ascending.\n",
    "   \n",
    "3. Do not use table aliasing in this exercise."
   ],
   "attachments": {},
   "metadata": {
    "datalore": {
     "node_id": "dmCiA1R9RX2BsFhTTMIS75",
     "type": "MD",
     "hide_input_from_viewers": true,
     "hide_output_from_viewers": true
    }
   }
  },
  {
   "cell_type": "code",
   "source": [
    "-- Select fields\n",
    "SELECT code, inflation_rate, unemployment_rate\n",
    "  -- From economies\n",
    "  FROM economies\n",
    "  -- Where year is 2015 and code is not in\n",
    "  WHERE year = 2015 AND code NOT IN\n",
    "  \t-- Subquery\n",
    "  \t(SELECT code\n",
    "  \t FROM countries\n",
    "  \t WHERE (gov_form = 'Constitutional Monarchy' OR gov_form LIKE '%Republic%'))\n",
    "-- Order by inflation rate\n",
    "ORDER BY inflation_rate;"
   ],
   "execution_count": null,
   "outputs": [],
   "metadata": {
    "datalore": {
     "node_id": "uiqx4L1h9jm83mvOgYwi2f",
     "type": "SQL",
     "hide_input_from_viewers": true,
     "hide_output_from_viewers": true,
     "sql_cell_properties": {
      "dbId": "jOyGqCiILoIjpITFFDsrSH",
      "variableName": "df_58",
      "dialect": "postgresql"
     }
    }
   }
  },
  {
   "cell_type": "markdown",
   "source": [
    "### Course Review\n",
    "\n",
    "The text provides a course review of SQL and PostgreSQL, specifically covering the types of joins, set theory clauses, semi-joins and anti-joins, and subqueries. It starts by highlighting the four types of joins, which are INNER JOIN, LEFT JOIN, RIGHT JOIN, and FULL JOIN, and also explains the differences between them. The text then moves on to explain the differences between set theory clauses, including UNION, UNION ALL, INTERSECT, and EXCEPT. It also covers semi-joins and anti-joins, explaining how they are useful in filtering tables based on specific conditions. The text then goes on to explain the three types of basic subqueries that are commonly used in SQL, including subqueries in the WHERE, SELECT, and FROM clauses. The text concludes by encouraging the reader to take on the challenge problems to solidify their understanding of SQL and PostgreSQL.\n",
    "\n",
    "***Analogy:***\n",
    "* Think of learning SQL and PostgreSQL like learning how to navigate a complex city with different roads and intersections. Just like a city has different types of roads that lead to different destinations, SQL has different types of joins that lead to different results. You need to know which roads to take to reach your destination just like you need to know which join to use to get the desired output.\n",
    "\n",
    "* Additionally, just like a city has different neighborhoods with different characteristics, tables in a database have different attributes and fields that can be compared and combined through set theory clauses like UNION and INTERSECT.\n",
    "\n",
    "* Finally, think of subqueries as secret shortcuts or hidden paths that can help you get to your destination faster or with more specific information. Just like in SQL, where subqueries can be used to filter, sort or group data in different ways to get specific results.\n",
    "\n",
    "\n"
   ],
   "attachments": {},
   "metadata": {
    "datalore": {
     "node_id": "qXGBXHxSdWaJvvkUbE78gc",
     "type": "MD",
     "hide_input_from_viewers": true,
     "hide_output_from_viewers": true
    }
   }
  },
  {
   "cell_type": "markdown",
   "source": [
    "#### Final Challenge\n",
    "\n",
    "* Welcome to the end of the course! The next three exercises will test your knowledge of the content covered in this course and apply many of the ideas you've seen to difficult problems. Good luck!\n",
    "\n",
    "* Read carefully over the instructions and solve them step-by-step, thinking about how the different clauses work together.\n",
    "\n",
    "* In this exercise, you'll need to get the country names and other 2015 data in the economies table and the countries table for Central American countries with an official language.\n",
    "\n",
    "***Instructions (1)***\n",
    "\n",
    "1) Select unique country names. Also select the total investment and imports fields.\n",
    "   \n",
    "2) Use a left join with countries on the left. (An inner join would also work, but please use a left join here.)\n",
    "   \n",
    "3) Match on code in the two tables AND use a subquery inside of ON to choose the appropriate languages records.\n",
    "   \n",
    "4) Order by country name ascending.\n",
    "   \n",
    "5) Use table aliasing but not field aliasing in this exercise."
   ],
   "attachments": {},
   "metadata": {
    "datalore": {
     "node_id": "GHHLzDSHR4z2tRkPkRXCE4",
     "type": "MD",
     "hide_input_from_viewers": true,
     "hide_output_from_viewers": true
    }
   }
  },
  {
   "cell_type": "code",
   "source": [
    "-- Select fields\n",
    "SELECT DISTINCT name, total_investment, imports\n",
    "  -- From table (with alias)\n",
    "  FROM countries AS c\n",
    "    -- Join with table (with alias)\n",
    "    LEFT JOIN economies AS e\n",
    "      -- Match on code\n",
    "      ON (c.code = e.code\n",
    "        -- and code in Subquery\n",
    "        AND c.code IN (\n",
    "          SELECT l.code\n",
    "          FROM languages AS l\n",
    "          WHERE official = 'true'\n",
    "        ) )\n",
    "  -- Where region and year are correct\n",
    "  WHERE region = 'Central America' AND year = 2015\n",
    "-- Order by field\n",
    "ORDER BY name;"
   ],
   "execution_count": null,
   "outputs": [],
   "metadata": {
    "datalore": {
     "node_id": "7Y0J2wq2xCs3RkhqU55X34",
     "type": "SQL",
     "hide_input_from_viewers": true,
     "hide_output_from_viewers": true,
     "sql_cell_properties": {
      "dbId": "jOyGqCiILoIjpITFFDsrSH",
      "variableName": "df_59",
      "dialect": "postgresql"
     }
    }
   }
  },
  {
   "cell_type": "markdown",
   "source": [
    "#### Final Challenge (2)\n",
    "\n",
    "Whoofta! That was challenging, huh?\n",
    "\n",
    "Let's ease up a bit and calculate the average fertility rate for each region in 2015.\n",
    "\n",
    "***Instructions (1)***\n",
    "1. Include the name of region, its continent, and average fertility rate aliased as avg_fert_rate.\n",
    "   \n",
    "2. Sort based on avg_fert_rate ascending.\n",
    "   \n",
    "3. Remember that you'll need to GROUP BY all fields that aren't included in the aggregate function of SELECT."
   ],
   "attachments": {},
   "metadata": {
    "datalore": {
     "node_id": "WXl8ExNm7BcNwSZvM6sx4X",
     "type": "MD",
     "hide_input_from_viewers": true,
     "hide_output_from_viewers": true
    }
   }
  },
  {
   "cell_type": "code",
   "source": [
    "-- Select fields\n",
    "SELECT region, continent, AVG(fertility_rate) AS avg_fert_rate\n",
    "  -- From left table\n",
    "  FROM countries AS c\n",
    "    -- Join to right table\n",
    "    INNER JOIN populations AS p\n",
    "      -- Match on join condition\n",
    "      ON c.code = p.country_code\n",
    "  -- Where specific records matching some condition\n",
    "  WHERE year = 2015\n",
    "-- Group appropriately?\n",
    "GROUP BY region, continent\n",
    "-- Order appropriately\n",
    "ORDER BY avg_fert_rate;"
   ],
   "execution_count": null,
   "outputs": [],
   "metadata": {
    "datalore": {
     "node_id": "DpumkBfqNLlTHb77D0CVjV",
     "type": "SQL",
     "hide_input_from_viewers": true,
     "hide_output_from_viewers": true,
     "sql_cell_properties": {
      "dbId": "jOyGqCiILoIjpITFFDsrSH",
      "variableName": "df_60",
      "dialect": "postgresql"
     }
    }
   }
  },
  {
   "cell_type": "markdown",
   "source": [
    "***XP:*** It seems that the average fertility rate is lowest in Southern Europe and highest in Central Africa. Two down, one to go!"
   ],
   "attachments": {},
   "metadata": {
    "datalore": {
     "node_id": "EmdSQTKVkLAruOVl7hsuEY",
     "type": "MD",
     "hide_input_from_viewers": true,
     "hide_output_from_viewers": true
    }
   }
  },
  {
   "cell_type": "markdown",
   "source": [
    "#### Final Challenge (3)\n",
    "\n",
    "Welcome to the last challenge problem. By now you're a query warrior! Remember that these challenges are designed to take you to the limit to solidify your SQL knowledge! Take a deep breath and solve this step-by-step.\n",
    "\n",
    "You are now tasked with determining the top 10 capital cities in Europe and the Americas in terms of a calculated percentage using city_proper_pop and metroarea_pop in cities.\n",
    "\n",
    "Do not use table aliasing in this exercise.\n",
    "\n",
    "***Instructions (1)***\n",
    "\n",
    "1. Select the city name, country code, city proper population, and metro area population.\n",
    "   \n",
    "2. Calculate the percentage of metro area population composed of city proper population for each city in cities, aliased as city_perc.\n",
    "   \n",
    "3. Focus only on capital cities in Europe and the Americas in a subquery.\n",
    "   \n",
    "4. Make sure to exclude records with missing data on metro area population.\n",
    "   \n",
    "5. Order the result by city_perc descending.\n",
    "   \n",
    "6. Then determine the top 10 capital cities in Europe and the Americas in terms of this city_perc percentage."
   ],
   "attachments": {},
   "metadata": {
    "datalore": {
     "node_id": "Njud6nmOOXbddFZ7utYRXm",
     "type": "MD",
     "hide_input_from_viewers": true,
     "hide_output_from_viewers": true
    }
   }
  },
  {
   "cell_type": "code",
   "source": [
    "-- Select fields\n",
    "SELECT name, country_code, city_proper_pop, metroarea_pop,\n",
    "\t  -- Calculate city_perc\n",
    "      city_proper_pop / metroarea_pop * 100 AS city_perc\n",
    "  -- From appropriate table    \n",
    "  FROM cities\n",
    "  -- Where\n",
    "  WHERE name IN\n",
    "    -- Subquery\n",
    "    (SELECT capital\n",
    "     FROM countries\n",
    "     WHERE (continent = 'Europe'\n",
    "        OR continent LIKE '%America'))\n",
    "       AND metroarea_pop IS NOT NULL\n",
    "-- Order appropriately\n",
    "ORDER BY city_perc DESC\n",
    "-- Limit amount\n",
    "LIMIT 10;"
   ],
   "execution_count": null,
   "outputs": [],
   "metadata": {
    "datalore": {
     "node_id": "HvDCFE6tOCCN0jQ3wsAADl",
     "type": "SQL",
     "hide_input_from_viewers": true,
     "hide_output_from_viewers": true,
     "sql_cell_properties": {
      "dbId": "jOyGqCiILoIjpITFFDsrSH",
      "variableName": "df_61",
      "dialect": "postgresql"
     }
    }
   }
  }
 ],
 "metadata": {
  "kernelspec": {
   "display_name": "Python",
   "language": "python",
   "name": "python"
  },
  "datalore": {
   "computation_mode": "JUPYTER",
   "package_manager": "pip",
   "base_environment": "default",
   "packages": [],
   "report_row_ids": [
    "fK4syrArwAtAGP1oEnalJu",
    "gbFzW7E8freCAuESG2GX5H",
    "TcqVTppPTOMoammxa8beWB",
    "JM4D4XUnJijNQ7lyyXJLP9",
    "7zT0k3oneXNUIrTp3SF6in",
    "jGTnn8jvrEDrakANaPQo9O",
    "0S6O3xcMuWivhHJGeoFn59",
    "Egw85jw6yegD7SRMdsVUuD",
    "ulUkiM478CPlsxobTExMZK",
    "NgNWxjHAIlyhMUsMg1PRz4",
    "AqbpjmTYT0undjoSp0qKII",
    "lCj8IXNL4miPejqUT6KEd2",
    "IlQPN7PQBpiYwhHdaevyVf",
    "UWGYzu3sHiThTZUAOFVgx2",
    "aPcTpZTUkpzUWM2PV3OGcI",
    "3B3tEMbM8aQEMwoThat08A",
    "q6xTsqoQ2Sa2DfCGfHlulv",
    "jRnGsPfQlIqibavxagcAuF",
    "IFfq8hE92e2VD56fxIAUoi",
    "9FTVF628Hzuc4US0H0mPBC",
    "5UH4tFZQptbtVxq40JmUlv",
    "FeOA3kLK8MV8M8xSDqroeo",
    "rlaaKEha2Z8c1Fsn9suBJW",
    "E9IdORNPIWw9x2XhXbSQ2s",
    "sjV7vtiPOHD8B1bkvADIDR",
    "4MoAZQzK41AK1Z9qPHkcjy",
    "Dd1QOyauglzGOL7J4KfK9i",
    "PBSY7U65sUess3Ce6yOZsY",
    "wzrmDF8jNlkNiJvpguTRZI",
    "ajmrdtnNFeOuRr5VfP9MIs",
    "Kqk2XlcZh5dfpMirCFrXhr",
    "V9tn5OK6bw5Rq4GnVs5uZY",
    "Oem2t3PG0lAjOiwGMvP92s",
    "iI9hdxFwelRElI21NQgZOr",
    "fMvDWftlkleHZ79vKCP9Tr",
    "iRsf6LkrLTNbDSmxlNzOuZ",
    "U4Gsd2y3shU1aouASNOMDx",
    "Dq75HlobiBkFs7MHU2kQGG",
    "LI7DlNtTr8uDUm2hjaN3s3",
    "yayBoYlIetaCNimyQebS0e",
    "E42QfJO8BsTEy5KYn7gIGC",
    "302EPAjTI3nZANFOhiyXoF",
    "5ofqLBGCwROlIy61PIgN8v",
    "UZW5xSy01FUd9vjMbRz1Gv",
    "IRI9WfyUMNifzLXAlgSDmH",
    "0nnz3HCI6ltrTXVl21fIyy",
    "6e5oGUsx4VAOVL3n88IFtf",
    "n2y9Y5NJFXueqxY9rfKmqp",
    "KKfpZVCUOAwF61wYQ20CKB",
    "SIxtr8S1QdvLEKlVjNb6w8",
    "wypB713w1ljf5ZzhiDeqWu",
    "dyKEXlKUtuOeYyp4RmT3Fg",
    "Pa6jBfMhIyWdxmHmcGNK5o",
    "hlscgUtZdcgAnrnxQAinVP",
    "1IVpAyBUsuFDTPVlvLVHKi",
    "wLy924bzwlrCPR265Nt9oU",
    "g5yGpTW2lnufg6Dq0mwf9j",
    "dxELMaCEfnTDCmmBYQYenR",
    "jLOO0vlynfUFvx2K3I0Trm",
    "shVY3QK66SVzTz2j20SE3H",
    "N55BPcKX1ElLIt8EeP76GJ",
    "qalOABD4AN5vHQV8batjGg",
    "yhCCA2UjE1xXBzfTvk83fX",
    "4Bhn7ggKIoNyxD1qxuhvfi"
   ],
   "version": 2
  }
 },
 "nbformat": 4,
 "nbformat_minor": 4
}
