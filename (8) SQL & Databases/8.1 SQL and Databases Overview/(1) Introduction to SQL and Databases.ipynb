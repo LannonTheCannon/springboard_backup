{
 "cells": [
  {
   "cell_type": "markdown",
   "source": [
    "# Introduction to SQL and Databases"
   ],
   "metadata": {
    "collapsed": false
   }
  },
  {
   "cell_type": "markdown",
   "source": [
    "## Databases, DBMS, and SQL\n",
    "The article discusses the concept of databases as an organized collection of structured information used to store data, often implemented as virtual tables and managed by a database management system (DBMS) like MySQL, Microsoft SQL Server, or PostgreSQL. Relational databases, which use tables with links connecting data from one table to another, are popular among Fortune 500 companies and form the basis of SQL, a database-querying language used to manipulate data and create data structures. SQL has easy-to-use syntax and is widely applicable across different DBMS."
   ],
   "metadata": {
    "collapsed": false
   }
  },
  {
   "cell_type": "markdown",
   "source": [
    "## Entities, Fields, and Records\n",
    "This text explains the basic concepts of a relational database, which is composed of tables containing data about a specific entity. An entity is a general class of things, such as \"Company\" or \"State,\" and not a specific instance of that thing. In the example given, the entity is \"model vehicles,\" and a table is created to store information about specific models, with each row representing a specific model (a record) and each column representing a quality of that model (a field). The table is referred to as the \"products table,\" and each record in the table has valid data for each column."
   ],
   "metadata": {
    "collapsed": false
   }
  },
  {
   "cell_type": "markdown",
   "source": [
    "## Data Types\n",
    "In relational databases, every column has an associated data type, which helps to prevent the introduction of incorrect data types. Although this feature improves data quality, it is also restrictive because changing the data type of a column can require creating a new column. Furthermore, while SQL has standard data types, different DBMSs can have different implementations of these data types."
   ],
   "metadata": {
    "collapsed": false
   }
  },
  {
   "cell_type": "markdown",
   "source": [
    "| Data Type | Explanation                                            | Example                   |\n",
    "|-----------|--------------------------------------------------------|---------------------------|\n",
    "| char(n)   | A fixed-length string of alphanumeric text, that must be of length n | area_code CHAR(5)    |\n",
    "|           |                                                        | 07837                     |\n",
    "|           |                                                        | 01653                     |\n",
    "| varchar(n)| A variable-length string of alphanumeric text that can be any length up to a maximum length n | email_address VARCHAR(100) |\n",
    "|           |                                                        | myemail@hotmail.com       |\n",
    "| int       | An integer (whole number)                               | view_count INT            |\n",
    "|           |                                                        | 1                         |\n",
    "|           |                                                        | 195                       |\n",
    "| float     | A number with floating point precision                  | weight FLOAT              |\n",
    "|           |                                                        | 0.18102010                |\n",
    "|           |                                                        | 13.1213121                |\n",
    "| boolean   | A boolean true/false value                              | married BOOLEAN           |\n",
    "|           |                                                        | TRUE                      |\n",
    "|           |                                                        | FALSE                     |\n",
    "| date      | A date                                                 | date_of_birth DATE        |\n",
    "|           |                                                        | 1990-03-04                |\n",
    "| time      | A time                                                 | time_of_birth TIME        |\n",
    "|           |                                                        | 01:00:01                  |\n",
    "| timestamp | A date and time                                        | date_of_birth TIMESTAMP  |\n",
    "|           |                                                        | 1990-03-04 01:00:01       |\n"
   ],
   "metadata": {
    "collapsed": false
   }
  },
  {
   "cell_type": "markdown",
   "source": [
    "## Primary Keys\n",
    "\n",
    "To differentiate between records in a database table and avoid data corruption, a unique identifier field known as a primary key is used. A primary key should always be unique, non-null, and immutable. It is defined when creating an entity table and helps to differentiate records even when some fields overlap. For example, a primary key can help differentiate between two products with the same name but different scales.\n",
    "\n",
    "This article discusses how to create a table in an RDBMS, where we explicitly define the table, its columns, data types, keys, and any additional constraints before working with it. The article provides an example of creating a table using SQL code and explains the use of the \"NOT NULL\" constraint and the primary key. The article also explains the difference between SQL used as a Data Definition Language (DDL) and SQL used as a Data Manipulation Language (DML) and provides a basic example of an SQL query using SELECT."
   ],
   "metadata": {
    "collapsed": false
   }
  },
  {
   "cell_type": "markdown",
   "source": [
    "## A Brief look at NoSQL\n",
    "Also known as non-relational databases, allow you to store and retrieve unstructured data using a dynamic schema. NoSQL is popularly used for its flexible ability to create a unique structure, and can be document, graph, column, or even KeyValue organized as a data structure."
   ],
   "metadata": {
    "collapsed": false
   }
  },
  {
   "cell_type": "code",
   "execution_count": null,
   "outputs": [],
   "source": [],
   "metadata": {
    "collapsed": false
   }
  }
 ],
 "metadata": {
  "kernelspec": {
   "display_name": "Python 3",
   "language": "python",
   "name": "python3"
  },
  "language_info": {
   "codemirror_mode": {
    "name": "ipython",
    "version": 2
   },
   "file_extension": ".py",
   "mimetype": "text/x-python",
   "name": "python",
   "nbconvert_exporter": "python",
   "pygments_lexer": "ipython2",
   "version": "2.7.6"
  }
 },
 "nbformat": 4,
 "nbformat_minor": 0
}
