{
 "cells": [
  {
   "cell_type": "markdown",
   "source": [
    "# Set Theory: The Method to Database Madness\n",
    "\n",
    "The article discusses sets and set theory in the context of data structures. Sets are a mathematical concept that represents an unordered collection of elements with no duplicates. The article describes the importance of sets and how they are used in real life. The author explains the implementation of sets using Venn diagrams to represent two sets: books they have read and books they own. Sets are represented as a collection of distinct, unique objects that never contain duplicated values. The article then explains two key operations performed on sets - intersection and union - and how they are denoted. Finally, the author emphasizes that sets are important in database management because they enable the efficient management of large data sets.\n",
    "\n",
    "https://medium.com/basecs/set-theory-the-method-to-database-madness-5ec4b4f05d79"
   ],
   "metadata": {
    "collapsed": false
   }
  },
  {
   "cell_type": "code",
   "execution_count": null,
   "outputs": [],
   "source": [],
   "metadata": {
    "collapsed": false
   }
  }
 ],
 "metadata": {
  "kernelspec": {
   "display_name": "Python 3",
   "language": "python",
   "name": "python3"
  },
  "language_info": {
   "codemirror_mode": {
    "name": "ipython",
    "version": 2
   },
   "file_extension": ".py",
   "mimetype": "text/x-python",
   "name": "python",
   "nbconvert_exporter": "python",
   "pygments_lexer": "ipython2",
   "version": "2.7.6"
  }
 },
 "nbformat": 4,
 "nbformat_minor": 0
}
