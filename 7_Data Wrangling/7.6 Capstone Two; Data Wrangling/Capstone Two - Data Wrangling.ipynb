{
 "cells": [
  {
   "cell_type": "markdown",
   "source": [
    "# Capstone Two: Data Wrangling\n",
    "\n",
    "The data wrangling portion of the project involves the process of acquiring, organizing, defining, and cleaning the data in a way that makes it easy to work with for the rest of the capstone project. The dataset chosen for this project contains all the stats of top Education/Ed-Tech apps in the Google Play Store. To load the data into the Jupyter notebook, the pandas library is used along with the read_csv() function, which is specifically used to read data from a CSV file. It is important to note that depending on the type of data that needs to be read in, other functions like read_excel() for Excel files or read_sql() for data stored in a SQL database may be used."
   ],
   "metadata": {
    "collapsed": false
   }
  },
  {
   "cell_type": "markdown",
   "source": [
    "### Loading the data"
   ],
   "metadata": {
    "collapsed": false
   }
  },
  {
   "cell_type": "code",
   "execution_count": 10,
   "outputs": [
    {
     "data": {
      "text/plain": "   Unnamed: 0                                title     installs     score  \\\n0           0            BYJU'S – The Learning App  100000000.0  4.122065   \n1           1           Duolingo: language lessons  100000000.0  4.573800   \n2           2       IIT JEE, NEET, NCERT Solutions   50000000.0  4.220000   \n3           3                Unacademy Learner App   50000000.0  3.358490   \n4           4  Noon Academy – Student Learning App   10000000.0  4.252337   \n\n      ratings   reviews                size androidVersion  \\\n0   1745108.0     947.0                167M            5.0   \n1  12512116.0  592133.0  Varies with device         Varies   \n2    574552.0     307.0                 22M            5.0   \n3    951700.0     452.0  Varies with device         Varies   \n4    103191.0     459.0                 52M            5.0   \n\n                                       developer contentRating  containsAds  \\\n0                                         BYJU'S      Everyone        False   \n1                                       Duolingo      Everyone         True   \n2  Doubtnut: Doubt Solving & Video Solutions App      Everyone        False   \n3                                      Unacademy      Everyone        False   \n4                                   Noon Academy      Everyone        False   \n\n       released       updated             version  \n0   Jul 6, 2015  1.651665e+09        10.1.1.13300  \n1  May 29, 2013  1.652122e+09  Varies with device  \n2  Oct 14, 2016  1.652126e+09              7.9.67  \n3  Feb 15, 2017  1.651834e+09  Varies with device  \n4  Mar 12, 2017  1.652216e+09              4.6.32  ",
      "text/html": "<div>\n<style scoped>\n    .dataframe tbody tr th:only-of-type {\n        vertical-align: middle;\n    }\n\n    .dataframe tbody tr th {\n        vertical-align: top;\n    }\n\n    .dataframe thead th {\n        text-align: right;\n    }\n</style>\n<table border=\"1\" class=\"dataframe\">\n  <thead>\n    <tr style=\"text-align: right;\">\n      <th></th>\n      <th>Unnamed: 0</th>\n      <th>title</th>\n      <th>installs</th>\n      <th>score</th>\n      <th>ratings</th>\n      <th>reviews</th>\n      <th>size</th>\n      <th>androidVersion</th>\n      <th>developer</th>\n      <th>contentRating</th>\n      <th>containsAds</th>\n      <th>released</th>\n      <th>updated</th>\n      <th>version</th>\n    </tr>\n  </thead>\n  <tbody>\n    <tr>\n      <th>0</th>\n      <td>0</td>\n      <td>BYJU'S – The Learning App</td>\n      <td>100000000.0</td>\n      <td>4.122065</td>\n      <td>1745108.0</td>\n      <td>947.0</td>\n      <td>167M</td>\n      <td>5.0</td>\n      <td>BYJU'S</td>\n      <td>Everyone</td>\n      <td>False</td>\n      <td>Jul 6, 2015</td>\n      <td>1.651665e+09</td>\n      <td>10.1.1.13300</td>\n    </tr>\n    <tr>\n      <th>1</th>\n      <td>1</td>\n      <td>Duolingo: language lessons</td>\n      <td>100000000.0</td>\n      <td>4.573800</td>\n      <td>12512116.0</td>\n      <td>592133.0</td>\n      <td>Varies with device</td>\n      <td>Varies</td>\n      <td>Duolingo</td>\n      <td>Everyone</td>\n      <td>True</td>\n      <td>May 29, 2013</td>\n      <td>1.652122e+09</td>\n      <td>Varies with device</td>\n    </tr>\n    <tr>\n      <th>2</th>\n      <td>2</td>\n      <td>IIT JEE, NEET, NCERT Solutions</td>\n      <td>50000000.0</td>\n      <td>4.220000</td>\n      <td>574552.0</td>\n      <td>307.0</td>\n      <td>22M</td>\n      <td>5.0</td>\n      <td>Doubtnut: Doubt Solving &amp; Video Solutions App</td>\n      <td>Everyone</td>\n      <td>False</td>\n      <td>Oct 14, 2016</td>\n      <td>1.652126e+09</td>\n      <td>7.9.67</td>\n    </tr>\n    <tr>\n      <th>3</th>\n      <td>3</td>\n      <td>Unacademy Learner App</td>\n      <td>50000000.0</td>\n      <td>3.358490</td>\n      <td>951700.0</td>\n      <td>452.0</td>\n      <td>Varies with device</td>\n      <td>Varies</td>\n      <td>Unacademy</td>\n      <td>Everyone</td>\n      <td>False</td>\n      <td>Feb 15, 2017</td>\n      <td>1.651834e+09</td>\n      <td>Varies with device</td>\n    </tr>\n    <tr>\n      <th>4</th>\n      <td>4</td>\n      <td>Noon Academy – Student Learning App</td>\n      <td>10000000.0</td>\n      <td>4.252337</td>\n      <td>103191.0</td>\n      <td>459.0</td>\n      <td>52M</td>\n      <td>5.0</td>\n      <td>Noon Academy</td>\n      <td>Everyone</td>\n      <td>False</td>\n      <td>Mar 12, 2017</td>\n      <td>1.652216e+09</td>\n      <td>4.6.32</td>\n    </tr>\n  </tbody>\n</table>\n</div>"
     },
     "execution_count": 10,
     "metadata": {},
     "output_type": "execute_result"
    }
   ],
   "source": [
    "# Capstone Two - Data Wrangling\n",
    "import pandas as pd\n",
    "\n",
    "df = pd.read_csv('edtech (1).csv')\n",
    "\n",
    "df.head()"
   ],
   "metadata": {
    "collapsed": false
   }
  },
  {
   "cell_type": "code",
   "execution_count": 11,
   "outputs": [
    {
     "name": "stdout",
     "output_type": "stream",
     "text": [
      "<class 'pandas.core.frame.DataFrame'>\n",
      "RangeIndex: 81 entries, 0 to 80\n",
      "Data columns (total 14 columns):\n",
      " #   Column          Non-Null Count  Dtype  \n",
      "---  ------          --------------  -----  \n",
      " 0   Unnamed: 0      81 non-null     int64  \n",
      " 1   title           81 non-null     object \n",
      " 2   installs        81 non-null     float64\n",
      " 3   score           81 non-null     float64\n",
      " 4   ratings         59 non-null     float64\n",
      " 5   reviews         81 non-null     float64\n",
      " 6   size            81 non-null     object \n",
      " 7   androidVersion  81 non-null     object \n",
      " 8   developer       81 non-null     object \n",
      " 9   contentRating   81 non-null     object \n",
      " 10  containsAds     81 non-null     bool   \n",
      " 11  released        81 non-null     object \n",
      " 12  updated         81 non-null     float64\n",
      " 13  version         81 non-null     object \n",
      "dtypes: bool(1), float64(5), int64(1), object(7)\n",
      "memory usage: 8.4+ KB\n"
     ]
    }
   ],
   "source": [
    "df.info()"
   ],
   "metadata": {
    "collapsed": false
   }
  },
  {
   "cell_type": "markdown",
   "source": [
    "### Exploring and understanding the edtech dataset"
   ],
   "metadata": {
    "collapsed": false
   }
  },
  {
   "cell_type": "code",
   "execution_count": 12,
   "outputs": [
    {
     "data": {
      "text/plain": "(81, 14)"
     },
     "execution_count": 12,
     "metadata": {},
     "output_type": "execute_result"
    }
   ],
   "source": [
    "# Check the size of dataset using the shape\n",
    "df.shape"
   ],
   "metadata": {
    "collapsed": false
   }
  },
  {
   "cell_type": "code",
   "execution_count": 13,
   "outputs": [
    {
     "data": {
      "text/plain": "Unnamed: 0          int64\ntitle              object\ninstalls          float64\nscore             float64\nratings           float64\nreviews           float64\nsize               object\nandroidVersion     object\ndeveloper          object\ncontentRating      object\ncontainsAds          bool\nreleased           object\nupdated           float64\nversion            object\ndtype: object"
     },
     "execution_count": 13,
     "metadata": {},
     "output_type": "execute_result"
    }
   ],
   "source": [
    "# Check the datatypes of columns using dtypes\n",
    "df.dtypes"
   ],
   "metadata": {
    "collapsed": false
   }
  },
  {
   "cell_type": "code",
   "execution_count": 14,
   "outputs": [
    {
     "data": {
      "text/plain": "    Unnamed: 0  title  installs  score  ratings  reviews   size  \\\n0        False  False     False  False    False    False  False   \n1        False  False     False  False    False    False  False   \n2        False  False     False  False    False    False  False   \n3        False  False     False  False    False    False  False   \n4        False  False     False  False    False    False  False   \n..         ...    ...       ...    ...      ...      ...    ...   \n76       False  False     False  False     True    False  False   \n77       False  False     False  False     True    False  False   \n78       False  False     False  False     True    False  False   \n79       False  False     False  False     True    False  False   \n80       False  False     False  False     True    False  False   \n\n    androidVersion  developer  contentRating  containsAds  released  updated  \\\n0            False      False          False        False     False    False   \n1            False      False          False        False     False    False   \n2            False      False          False        False     False    False   \n3            False      False          False        False     False    False   \n4            False      False          False        False     False    False   \n..             ...        ...            ...          ...       ...      ...   \n76           False      False          False        False     False    False   \n77           False      False          False        False     False    False   \n78           False      False          False        False     False    False   \n79           False      False          False        False     False    False   \n80           False      False          False        False     False    False   \n\n    version  \n0     False  \n1     False  \n2     False  \n3     False  \n4     False  \n..      ...  \n76    False  \n77    False  \n78    False  \n79    False  \n80    False  \n\n[81 rows x 14 columns]",
      "text/html": "<div>\n<style scoped>\n    .dataframe tbody tr th:only-of-type {\n        vertical-align: middle;\n    }\n\n    .dataframe tbody tr th {\n        vertical-align: top;\n    }\n\n    .dataframe thead th {\n        text-align: right;\n    }\n</style>\n<table border=\"1\" class=\"dataframe\">\n  <thead>\n    <tr style=\"text-align: right;\">\n      <th></th>\n      <th>Unnamed: 0</th>\n      <th>title</th>\n      <th>installs</th>\n      <th>score</th>\n      <th>ratings</th>\n      <th>reviews</th>\n      <th>size</th>\n      <th>androidVersion</th>\n      <th>developer</th>\n      <th>contentRating</th>\n      <th>containsAds</th>\n      <th>released</th>\n      <th>updated</th>\n      <th>version</th>\n    </tr>\n  </thead>\n  <tbody>\n    <tr>\n      <th>0</th>\n      <td>False</td>\n      <td>False</td>\n      <td>False</td>\n      <td>False</td>\n      <td>False</td>\n      <td>False</td>\n      <td>False</td>\n      <td>False</td>\n      <td>False</td>\n      <td>False</td>\n      <td>False</td>\n      <td>False</td>\n      <td>False</td>\n      <td>False</td>\n    </tr>\n    <tr>\n      <th>1</th>\n      <td>False</td>\n      <td>False</td>\n      <td>False</td>\n      <td>False</td>\n      <td>False</td>\n      <td>False</td>\n      <td>False</td>\n      <td>False</td>\n      <td>False</td>\n      <td>False</td>\n      <td>False</td>\n      <td>False</td>\n      <td>False</td>\n      <td>False</td>\n    </tr>\n    <tr>\n      <th>2</th>\n      <td>False</td>\n      <td>False</td>\n      <td>False</td>\n      <td>False</td>\n      <td>False</td>\n      <td>False</td>\n      <td>False</td>\n      <td>False</td>\n      <td>False</td>\n      <td>False</td>\n      <td>False</td>\n      <td>False</td>\n      <td>False</td>\n      <td>False</td>\n    </tr>\n    <tr>\n      <th>3</th>\n      <td>False</td>\n      <td>False</td>\n      <td>False</td>\n      <td>False</td>\n      <td>False</td>\n      <td>False</td>\n      <td>False</td>\n      <td>False</td>\n      <td>False</td>\n      <td>False</td>\n      <td>False</td>\n      <td>False</td>\n      <td>False</td>\n      <td>False</td>\n    </tr>\n    <tr>\n      <th>4</th>\n      <td>False</td>\n      <td>False</td>\n      <td>False</td>\n      <td>False</td>\n      <td>False</td>\n      <td>False</td>\n      <td>False</td>\n      <td>False</td>\n      <td>False</td>\n      <td>False</td>\n      <td>False</td>\n      <td>False</td>\n      <td>False</td>\n      <td>False</td>\n    </tr>\n    <tr>\n      <th>...</th>\n      <td>...</td>\n      <td>...</td>\n      <td>...</td>\n      <td>...</td>\n      <td>...</td>\n      <td>...</td>\n      <td>...</td>\n      <td>...</td>\n      <td>...</td>\n      <td>...</td>\n      <td>...</td>\n      <td>...</td>\n      <td>...</td>\n      <td>...</td>\n    </tr>\n    <tr>\n      <th>76</th>\n      <td>False</td>\n      <td>False</td>\n      <td>False</td>\n      <td>False</td>\n      <td>True</td>\n      <td>False</td>\n      <td>False</td>\n      <td>False</td>\n      <td>False</td>\n      <td>False</td>\n      <td>False</td>\n      <td>False</td>\n      <td>False</td>\n      <td>False</td>\n    </tr>\n    <tr>\n      <th>77</th>\n      <td>False</td>\n      <td>False</td>\n      <td>False</td>\n      <td>False</td>\n      <td>True</td>\n      <td>False</td>\n      <td>False</td>\n      <td>False</td>\n      <td>False</td>\n      <td>False</td>\n      <td>False</td>\n      <td>False</td>\n      <td>False</td>\n      <td>False</td>\n    </tr>\n    <tr>\n      <th>78</th>\n      <td>False</td>\n      <td>False</td>\n      <td>False</td>\n      <td>False</td>\n      <td>True</td>\n      <td>False</td>\n      <td>False</td>\n      <td>False</td>\n      <td>False</td>\n      <td>False</td>\n      <td>False</td>\n      <td>False</td>\n      <td>False</td>\n      <td>False</td>\n    </tr>\n    <tr>\n      <th>79</th>\n      <td>False</td>\n      <td>False</td>\n      <td>False</td>\n      <td>False</td>\n      <td>True</td>\n      <td>False</td>\n      <td>False</td>\n      <td>False</td>\n      <td>False</td>\n      <td>False</td>\n      <td>False</td>\n      <td>False</td>\n      <td>False</td>\n      <td>False</td>\n    </tr>\n    <tr>\n      <th>80</th>\n      <td>False</td>\n      <td>False</td>\n      <td>False</td>\n      <td>False</td>\n      <td>True</td>\n      <td>False</td>\n      <td>False</td>\n      <td>False</td>\n      <td>False</td>\n      <td>False</td>\n      <td>False</td>\n      <td>False</td>\n      <td>False</td>\n      <td>False</td>\n    </tr>\n  </tbody>\n</table>\n<p>81 rows × 14 columns</p>\n</div>"
     },
     "execution_count": 14,
     "metadata": {},
     "output_type": "execute_result"
    }
   ],
   "source": [
    "# Check for missing values in dataset using isnull\n",
    "df.isnull()"
   ],
   "metadata": {
    "collapsed": false
   }
  },
  {
   "cell_type": "markdown",
   "source": [
    "# check for duplicated observations"
   ],
   "metadata": {
    "collapsed": false
   }
  },
  {
   "cell_type": "code",
   "execution_count": 15,
   "outputs": [
    {
     "data": {
      "text/plain": "0     False\n1     False\n2     False\n3     False\n4     False\n      ...  \n76    False\n77    False\n78    False\n79    False\n80    False\nLength: 81, dtype: bool"
     },
     "execution_count": 15,
     "metadata": {},
     "output_type": "execute_result"
    }
   ],
   "source": [
    "df.duplicated()"
   ],
   "metadata": {
    "collapsed": false
   }
  }
 ],
 "metadata": {
  "kernelspec": {
   "display_name": "Python 3",
   "language": "python",
   "name": "python3"
  },
  "language_info": {
   "codemirror_mode": {
    "name": "ipython",
    "version": 2
   },
   "file_extension": ".py",
   "mimetype": "text/x-python",
   "name": "python",
   "nbconvert_exporter": "python",
   "pygments_lexer": "ipython2",
   "version": "2.7.6"
  }
 },
 "nbformat": 4,
 "nbformat_minor": 0
}
