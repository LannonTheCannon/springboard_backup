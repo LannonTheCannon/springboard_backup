{
 "cells": [
  {
   "cell_type": "code",
   "execution_count": null,
   "metadata": {
    "collapsed": true
   },
   "outputs": [],
   "source": []
  },
  {
   "cell_type": "markdown",
   "source": [
    "\n",
    "This is a summary of the steps for the data wrangling stage of the second capstone in the Data Science Career Track. The goal is to organize and clean the data to prepare for the next steps of the project. The steps include data collection, data organization, data definition, and data cleaning. The estimated time for this stage is 4-8 hours, and the steps should be performed in a Jupyter notebook with proper notation and structure. The pandas library and functions like read_csv() should be used for data loading and joining. The glob library may be useful for file structure and GitHub can be used for repository creation. Useful Python functions for data cleaning include loc[], iloc[], apply(), drop(), is_unique(), Series methods, and numPy methods."
   ],
   "metadata": {
    "collapsed": false
   }
  },
  {
   "cell_type": "markdown",
   "source": [
    "1) Data Collection:\n",
    "Load the necessary datasets using pandas' read_csv() function.\n",
    "Join the datasets together if necessary using functions like merge(), join() or concatenate().\n",
    "2) Data Organization:\n",
    "Create a file structure for your project and organize your work accordingly.\n",
    "Add your work to the GitHub repository created for this project.\n",
    "3) Data Definition:\n",
    "Gain an understanding of your data by examining the column names, data types, and descriptions.\n",
    "Calculate summary statistics for each column such as mean, median, mode, standard deviation, range, and number of unique values. Identify any potential issues that need further investigation.\n",
    "4) Data Cleaning:\n",
    "Deal with any missing values or duplicates using functions like drop() and isnull().\n",
    "Use Series and DataFrame methods like str.contains(), str.extract(), and np.where() to clean columns.\n",
    "Use Google or data wrangling resources for help with any unclear steps.\n",
    "The estimated time for each step is given as a range of 1-2 hours."
   ],
   "metadata": {
    "collapsed": false
   }
  },
  {
   "cell_type": "code",
   "execution_count": null,
   "outputs": [],
   "source": [],
   "metadata": {
    "collapsed": false
   }
  }
 ],
 "metadata": {
  "kernelspec": {
   "display_name": "Python 3",
   "language": "python",
   "name": "python3"
  },
  "language_info": {
   "codemirror_mode": {
    "name": "ipython",
    "version": 2
   },
   "file_extension": ".py",
   "mimetype": "text/x-python",
   "name": "python",
   "nbconvert_exporter": "python",
   "pygments_lexer": "ipython2",
   "version": "2.7.6"
  }
 },
 "nbformat": 4,
 "nbformat_minor": 0
}
