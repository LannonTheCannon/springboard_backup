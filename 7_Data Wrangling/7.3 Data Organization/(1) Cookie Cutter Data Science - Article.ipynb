{
 "cells": [
  {
   "cell_type": "markdown",
   "source": [
    "## Data Organization\n",
    "\n",
    "Keeping your data organized is an essential part of data wrangling; having organized data means you can smoothly iterate over different hypotheses and generate work that is reproducible (the latter of which is an essential part of sharing your findings). You can keep your work organized by using Git to perform version control — this will help you maintain your progress and streamline your ability to share your work with collaborators.\n",
    "\n",
    "Keep in mind that any company you work for will have its own data organization structure in place — this subunit will give you the skills needed to adapt to any data organization structure you come up against."
   ],
   "metadata": {
    "collapsed": false
   }
  },
  {
   "cell_type": "markdown",
   "source": [
    "https://drivendata.github.io/cookiecutter-data-science/"
   ],
   "metadata": {
    "collapsed": false
   }
  },
  {
   "cell_type": "markdown",
   "source": [
    "### Summary"
   ],
   "metadata": {
    "collapsed": false
   }
  },
  {
   "cell_type": "markdown",
   "source": [
    "* The article discusses the benefits of using the Cookiecutter Data Science project structure, which is a standardized but flexible framework for organizing data science projects. The article emphasizes the importance of code quality for reproducibility and correctness in data science work, and highlights the benefits of a well-organized project structure for collaboration, learning, and confidence in analysis results.\n",
    "\n",
    "* The article notes that data exploration is often a messy and nonlinear process, but a logical and standardized project structure can still provide helpful context for code and make it easier for newcomers to understand an analysis without extensive documentation. The benefits of a standardized project structure are compared to those of established frameworks in other fields, such as Ruby on Rails in web development and the Filesystem Hierarchy Standard in Unix-like systems.\n",
    "\n",
    "* The article also emphasizes the importance of a good project structure for reproducibility and ease of revisiting old work. Finally, the article notes that while the Cookiecutter Data Science structure is intended as a good starting point for many projects, it is not binding and can be customized to fit different needs or preferences.\n",
    "\n",
    "* This article presents a data science cookiecutter template for Python projects. The template provides Python boilerplate that can be removed, but it has a recommended directory structure for the project. The recommended directory structure includes directories such as data (which includes raw, external, processed and interim data), models, reports (which includes generated analysis as HTML, PDF, LaTeX, etc.), and src (which includes source code for use in the project). The article includes the example directory structure.\n",
    "\n",
    "* The project is built on certain beliefs, some of which include that data is immutable, and that notebooks are for exploration and communication. The article recommends using notebooks effectively by following a naming convention that shows the owner and the order the analysis was done in. It also recommends creating checkpoints by saving notebooks periodically during analysis. Lastly, the article emphasizes the importance of collaboration and communication among team members."
   ],
   "metadata": {
    "collapsed": false
   }
  },
  {
   "cell_type": "markdown",
   "source": [
    "### Directory Structure\n",
    "* The directory structure follows some opinions on how data science projects should be structured to make collaboration and reproducibility easier. For example, the data directory structure enforces the idea that raw data should be treated as immutable and that all transformations of the data should be tracked in a reproducible way. The src directory structure follows a similar idea of keeping code organized and reproducible."
   ],
   "metadata": {
    "collapsed": false
   }
  },
  {
   "cell_type": "markdown",
   "source": [
    "project\n",
    "├── LICENSE\n",
    "├── Makefile\n",
    "├── README.md\n",
    "├── data\n",
    "│   ├── external\n",
    "│   ├── interim\n",
    "│   ├── processed\n",
    "│   └── raw\n",
    "├── docs\n",
    "│   ├── Makefile\n",
    "│   ├── _static\n",
    "│   ├── _templates\n",
    "│   ├── conf.py\n",
    "│   ├── index.md\n",
    "│   └── source\n",
    "├── models\n",
    "├── notebooks\n",
    "├── references\n",
    "├── reports\n",
    "│   └── figures\n",
    "├── requirements.txt\n",
    "├── setup.py\n",
    "└── src#%% md"
   ],
   "metadata": {
    "collapsed": false
   }
  },
  {
   "cell_type": "markdown",
   "source": [
    "project_folder/\n",
    "│\n",
    "├── data/\n",
    "│   ├── raw/\n",
    "│   ├── processed/\n",
    "│   └── external/\n",
    "│\n",
    "├── notebooks/\n",
    "│   ├── exploratory/\n",
    "│   └── reports/\n",
    "│\n",
    "├── src/\n",
    "│   ├── data/\n",
    "│   ├── features/\n",
    "│   ├── models/\n",
    "│   └── visualization/\n",
    "│\n",
    "├── tests/\n",
    "│\n",
    "├── README.md\n",
    "│\n",
    "└── requirements.txt"
   ],
   "metadata": {
    "collapsed": false
   }
  },
  {
   "cell_type": "markdown",
   "source": [
    ".\n",
    "├── LICENSE\n",
    "├── Makefile\n",
    "├── README.md\n",
    "├── data\n",
    "│   ├── external\n",
    "│   ├── interim\n",
    "│   ├── processed\n",
    "│   └── raw\n",
    "├── docs\n",
    "│   ├── Makefile\n",
    "│   └── source\n",
    "├── models\n",
    "│   ├── README.md\n",
    "│   ├── predictions\n",
    "│   └── trained_models\n",
    "├── notebooks\n",
    "│   ├── 01_initial_data_exploration.ipynb\n",
    "│   ├── 02_data_preprocessing.ipynb\n",
    "│   ├── 03_model_training.ipynb\n",
    "│   └── 04_model_evaluation.ipynb\n",
    "├── references\n",
    "├── reports\n",
    "│   └── figures\n",
    "│       ├── report_1.html\n",
    "│       └── report_2.pdf\n",
    "├── requirements.txt\n",
    "├── setup.py\n",
    "└── src\n",
    "    ├── __init__.py\n",
    "    ├── data\n",
    "    │   └── make_dataset.py\n",
    "    ├── features\n",
    "    │   └── build_features.py\n",
    "    ├── models\n",
    "    │   ├── predict_model.py\n",
    "    │   └── train_model.py\n",
    "    └── visualization\n",
    "        └── visualize.py"
   ],
   "metadata": {
    "collapsed": false
   }
  },
  {
   "cell_type": "markdown",
   "source": [
    "project\n",
    "├── LICENSE\n",
    "├── Makefile\n",
    "├── README.md\n",
    "├── data\n",
    "│   ├── external\n",
    "│   ├── interim\n",
    "│   ├── processed\n",
    "│   └── raw\n",
    "├── docs\n",
    "│   ├── Makefile\n",
    "│   ├── _static\n",
    "│   ├── _templates\n",
    "│   ├── conf.py\n",
    "│   ├── index.md\n",
    "│   └── source\n",
    "├── models\n",
    "├── notebooks\n",
    "├── references\n",
    "├── reports\n",
    "│   └── figures\n",
    "├── requirements.txt\n",
    "├── setup.py\n",
    "└── src\n",
    "    ├── __init__.py\n",
    "    ├── data\n",
    "    │   ├── __init__.py\n",
    "    │   ├── make_dataset.py\n",
    "    │   └── preprocess.py\n",
    "    ├── features\n",
    "    │   ├── __init__.py\n",
    "    │   └── build_features.py\n",
    "    ├── models\n",
    "    │   ├── __init__.py\n",
    "    │   ├── predict_model.py\n",
    "    │   └── train_model.py\n",
    "    ├── utils\n",
    "    │   ├── __init__.py\n",
    "    │   └── helper_functions.py\n",
    "    └── visualization\n",
    "        ├── __init__.py\n",
    "        └── visualize.py├── __init__.py\n",
    "    ├── data\n",
    "    │   ├── __init__.py\n",
    "    │   ├── make_dataset.py\n",
    "    │   └── preprocess.py\n",
    "    ├── features\n",
    "    │   ├── __init__.py\n",
    "    │   └── build_features.py\n",
    "    ├── models\n",
    "    │   ├── __init__.py\n",
    "    │   ├── predict_model.py\n",
    "    │   └── train_model.py\n",
    "    ├── utils\n",
    "    │   ├── __init__.py\n",
    "    │   └── helper_functions.py\n",
    "    └── visualization\n",
    "        ├── __init__.py\n",
    "        └── visualize.py"
   ],
   "metadata": {
    "collapsed": false
   }
  },
  {
   "cell_type": "code",
   "execution_count": null,
   "outputs": [],
   "source": [],
   "metadata": {
    "collapsed": false
   }
  }
 ],
 "metadata": {
  "kernelspec": {
   "display_name": "Python 3",
   "language": "python",
   "name": "python3"
  },
  "language_info": {
   "codemirror_mode": {
    "name": "ipython",
    "version": 2
   },
   "file_extension": ".py",
   "mimetype": "text/x-python",
   "name": "python",
   "nbconvert_exporter": "python",
   "pygments_lexer": "ipython2",
   "version": "2.7.6"
  }
 },
 "nbformat": 4,
 "nbformat_minor": 0
}
