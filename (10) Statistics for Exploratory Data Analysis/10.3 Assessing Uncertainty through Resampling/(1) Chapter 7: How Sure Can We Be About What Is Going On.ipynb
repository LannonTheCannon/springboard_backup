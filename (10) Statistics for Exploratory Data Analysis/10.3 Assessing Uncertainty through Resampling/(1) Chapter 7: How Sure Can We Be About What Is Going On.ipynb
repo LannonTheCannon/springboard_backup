{
 "cells": [
  {
   "cell_type": "markdown",
   "source": [
    "# Chapter 7: How Sure Can We Be About What Is Going On?"
   ],
   "metadata": {
    "collapsed": false
   }
  },
  {
   "cell_type": "markdown",
   "source": [
    "### Summary\n",
    "\n",
    "Chapter Seven is about statistical inference, which is the process of drawing conclusions about a population based on a sample of data. The chapter covers core statistical concepts such as confidence intervals, margins of error, estimates, and bootstrapping.\n",
    "\n",
    "Confidence intervals are a way of estimating the range of values within which the true value of a population parameter is likely to fall. Margin of error is the amount by which a sample statistic might differ from the true population parameter. Estimates are calculated from sample data and used to make inferences about the population. Bootstrapping is a resampling method used to estimate the uncertainty of a sample statistic.\n",
    "\n",
    "The chapter also covers the use of statistical inference in hypothesis testing, where we test a hypothesis about a population parameter based on a sample of data. The process involves formulating a null hypothesis, which is then tested against an alternative hypothesis using a test statistic and a p-value. The p-value measures the strength of evidence against the null hypothesis, and a small p-value indicates that the evidence is unlikely to be due to chance.\n",
    "\n",
    "The chapter concludes with a discussion of the limitations of statistical inference and the importance of considering context and relevance when interpreting statistical results.\n",
    "\n",
    "Overall, Chapter Seven provides a solid foundation in statistical inference, which is an important tool for data analysis and decision-making."
   ],
   "metadata": {
    "collapsed": false
   }
  },
  {
   "cell_type": "markdown",
   "source": [
    "### Springboard Take Away Notes\n",
    "\n",
    "This **chapter** describes the various concepts of uncertainty that ought to be used when drawing conclusions with statistics and communicating those claims to others.\n",
    "When we take samples from a population about which we’d like to discover things, there will be variability in those samples. But if we have been prudent and avoided internal biases (for example by taking random samples) the summary statistics of the samples should be close to those of the study population.\n",
    "A margin of error is a plausible range in which a true feature of a population may lie, following a survey. A confidence interval, by contrast, is an estimated range within which an unknown parameter may plausibly lie. A confidence interval of 95% for a given value v gives a lower limit L and an upper limit U, and then entails that, before observing the data, there’s a 95% probability that the random interval (L, U) contains v.\n",
    "- The Central Limit Theorem is true: this is the claim that the sample mean of a set of random variables tends to have a normal sampling distribution, regardless of the shape of the underlying sampling distribution of the random variable.\n",
    "- Since The Central Limit Theorem is true, and close to 95% of a normal distribution lies between the mean +- 2 standard deviations, a common approximation for a 95% confidence interval is the estimate +- 2 standard errors.\n",
    "- The standard error of a sample mean is its standard deviation, when that sample mean is considered as a random variable.\n",
    "\n",
    "\n",
    "Bootstrapping is a means of generating confidence intervals and the distribution of test statistics by resampling the observed data with replacement, rather than by assuming a particular probability model for the underlying random variable.\n",
    "- ‘Bootstrapping’ has the name it does because we’re learning about the variability of an estimate without having to make any assumptions about the shape of the population distribution (or pulling ourselves up by our own bootstraps).\n",
    "- We bootstrap data when we do not want to make assumptions about the shape of the population.\n",
    "- Crucially, bootstrap distributions allow us to quantify our uncertainty about estimates. For example, we can find the range of values containing 95% of the means of the bootstrap resamples, and this can be a 95% uncertainty interval for the original estimates."
   ],
   "metadata": {
    "collapsed": false
   }
  },
  {
   "cell_type": "markdown",
   "source": [
    "### Confidence Intervals\n",
    "\n",
    "Suppose you are a fisherman trying to estimate the size of fish in a lake. You don't have the resources to catch every fish in the lake, so you take a random sample of fish and measure their size. Based on this sample, you want to estimate the average size of all the fish in the lake.\n",
    "\n",
    "However, you know that the size of fish in the lake can vary, so you want to account for this variability in your estimate. You decide to calculate a confidence interval, which is a range of values within which the true average size of fish is likely to fall.\n",
    "\n",
    "To calculate the confidence interval, you take your sample of fish and calculate the average size. Then, you use a statistical formula to calculate the margin of error, which is a measure of the amount by which your sample estimate might differ from the true average size of fish. Finally, you use the margin of error to construct a range of values, known as the confidence interval, within which you are confident the true average size of fish falls.\n",
    "\n",
    "For example, you might calculate a 95% confidence interval of 10-20 inches. This means that if you were to repeat the sampling process many times and calculate a 95% confidence interval each time, you would expect that 95% of the intervals would contain the true average size of fish in the lake.\n",
    "\n",
    "In summary, confidence intervals are like fishing nets that allow us to estimate the range of values within which the true population parameter is likely to fall, even though we can only observe a sample of the population."
   ],
   "metadata": {
    "collapsed": false
   }
  },
  {
   "cell_type": "markdown",
   "source": [
    "### Margins of Error\n",
    "\n",
    "Imagine you are an archer competing in a tournament. You want to hit the bullseye every time, but you know that your aim can vary from shot to shot. To account for this variability, you decide to measure the margin of error of your shots.\n",
    "\n",
    "To do this, you take several shots at the target and measure the distance between the center of each shot and the bullseye. Then, you calculate the average distance and use this as your estimate of your accuracy. However, you know that this estimate might not be exactly right, since your aim can vary from shot to shot.\n",
    "\n",
    "To measure the margin of error, you calculate the standard deviation of the distances between your shots and the bullseye. This gives you a measure of how much your aim can vary from shot to shot. The larger the standard deviation, the more variability in your aim, and the larger the margin of error.\n",
    "\n",
    "For example, if your average distance from the bullseye is 2 inches, and your standard deviation is 1 inch, then your margin of error might be ±1 inch. This means that you can be confident that your shots will fall within 1 inch of the bullseye, about 68% of the time.\n",
    "\n",
    "In summary, margins of error are like the range of possible distances between an archer's shots and the bullseye. They give us a measure of the variability in our estimates, and help us understand how much our estimate might differ from the true value."
   ],
   "metadata": {
    "collapsed": false
   }
  },
  {
   "cell_type": "code",
   "execution_count": null,
   "outputs": [],
   "source": [],
   "metadata": {
    "collapsed": false
   }
  }
 ],
 "metadata": {
  "kernelspec": {
   "display_name": "Python 3",
   "language": "python",
   "name": "python3"
  },
  "language_info": {
   "codemirror_mode": {
    "name": "ipython",
    "version": 2
   },
   "file_extension": ".py",
   "mimetype": "text/x-python",
   "name": "python",
   "nbconvert_exporter": "python",
   "pygments_lexer": "ipython2",
   "version": "2.7.6"
  }
 },
 "nbformat": 4,
 "nbformat_minor": 0
}
