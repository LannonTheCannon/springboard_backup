{
 "cells": [
  {
   "cell_type": "raw",
   "source": [
    "# Chapter 8: Probability - The Language of Uncertainty and Variability\n",
    "Chapter Eight is about probability theory and its applications in data analysis. The chapter covers the basic axioms and theorems of probability theory, as well as conditional probability and some common probability distributions.\n",
    "\n",
    "Probability theory is a branch of mathematics that deals with the study of random events and their outcomes. The basic axioms of probability theory include the additivity axiom, which states that the probability of the union of two events is equal to the sum of their individual probabilities, and the multiplication axiom, which states that the probability of the intersection of two events is equal to the product of their individual probabilities.\n",
    "\n",
    "Conditional probability is the probability of an event given that another event has already occurred. For example, the probability of a patient having a disease given that they have tested positive for the disease. Conditional probability is an important concept in many areas of data analysis, including Bayesian statistics.\n",
    "\n",
    "The chapter also covers some common probability distributions, such as the binomial distribution, the normal distribution, and the Poisson distribution. The Poisson distribution is particularly important in many areas of data analysis, such as in modeling the frequency of rare events.\n",
    "\n",
    "Spiegelhalter emphasizes the importance of understanding probability theory and its applications in data analysis. He provides helpful visualizations and examples to illustrate the concepts and shows how probability theory can be used to make inferences and predictions about real-world phenomena.\n",
    "\n",
    "Overall, Chapter Eight provides a comprehensive introduction to probability theory and its applications in data analysis. By understanding probability theory, we can better analyze and interpret data and make more informed ."
   ],
   "metadata": {
    "collapsed": false,
    "pycharm": {
     "name": ""
    }
   }
  },
  {
   "cell_type": "markdown",
   "source": [
    "# I just wanna see if this works!"
   ],
   "metadata": {
    "collapsed": false
   },
   "execution_count": 1
  },
  {
   "cell_type": "code",
   "execution_count": null,
   "outputs": [],
   "source": [],
   "metadata": {
    "collapsed": false
   }
  }
 ],
 "metadata": {
  "kernelspec": {
   "display_name": "Python 3",
   "language": "python",
   "name": "python3"
  },
  "language_info": {
   "codemirror_mode": {
    "name": "ipython",
    "version": 2
   },
   "file_extension": ".py",
   "mimetype": "text/x-python",
   "name": "python",
   "nbconvert_exporter": "python",
   "pygments_lexer": "ipython2",
   "version": "2.7.6"
  }
 },
 "nbformat": 4,
 "nbformat_minor": 0
}
