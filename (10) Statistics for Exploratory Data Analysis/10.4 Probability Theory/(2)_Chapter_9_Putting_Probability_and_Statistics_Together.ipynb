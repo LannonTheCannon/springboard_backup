{
 "cells": [
  {
   "cell_type": "markdown",
   "source": [
    "# Chapter 9: Seeing Theory - Basic Probability and Statistics Together"
   ],
   "metadata": {
    "collapsed": false
   }
  },
  {
   "cell_type": "markdown",
   "source": [
    "### Putting Probability and Statistics Together - Takeaway Notes\n",
    "\n",
    "Random variable: a single data-point taken from a probability distribution that's describable with parameters. We typically have a mass of data, that's characterized with the means and medians.\n",
    "\n",
    "In this chapter we treat those very statistics as random variables, drawn from their own distributions.\n",
    "\n",
    "1. We can use probability theory to determine the sampling distribution of summary statistics, before using these to derive the formulae for confidence intervals.\n",
    "\n",
    "2. The mean of a random variable is known as its expectations. The standard deviation of a statistic is termed the standard error, to distinguish it from the standard deviation of the population from which it derives.\n",
    "\n",
    "3. If there are n independent possibilities in which an event can occur, each with the sameprobability, the observed number of events has a binomial distribution."
   ],
   "metadata": {
    "collapsed": false
   }
  },
  {
   "cell_type": "markdown",
   "source": [
    "this change"
   ],
   "metadata": {
    "collapsed": false
   }
  },
  {
   "cell_type": "code",
   "execution_count": null,
   "outputs": [],
   "source": [],
   "metadata": {
    "collapsed": false
   }
  }
 ],
 "metadata": {
  "kernelspec": {
   "display_name": "Python 3",
   "language": "python",
   "name": "python3"
  },
  "language_info": {
   "codemirror_mode": {
    "name": "ipython",
    "version": 2
   },
   "file_extension": ".py",
   "mimetype": "text/x-python",
   "name": "python",
   "nbconvert_exporter": "python",
   "pygments_lexer": "ipython2",
   "version": "2.7.6"
  }
 },
 "nbformat": 4,
 "nbformat_minor": 0
}
