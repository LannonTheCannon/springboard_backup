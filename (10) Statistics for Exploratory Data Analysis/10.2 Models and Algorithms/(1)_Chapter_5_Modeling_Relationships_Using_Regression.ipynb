{
 "cells": [
  {
   "cell_type": "markdown",
   "source": [
    "# Chapter 5: Modelling Relationships Using Regression\n",
    "This reading will teach you about some of the most important concepts in data science: statistical modeling with linear and logistic regression. You'll delve into concepts like the least-squares fitted line, regression coefficients, and signal versus noise ratios.\n",
    "\n",
    "Regression modeling is the staple technique of predictive statistics, and will be your go-to when you want a mathematical representation of the relationship between a set of explanatory variables and a single, quantitative response variable."
   ],
   "metadata": {
    "collapsed": false
   }
  },
  {
   "cell_type": "markdown",
   "source": [
    "### Summary\n",
    "\n",
    "Chapter Five of The Art of Statistics focuses on regression modeling, which is a statistical technique used to model the relationship between a set of independent variables, also known as predictors, and a dependent variable, also known as the response variable. The chapter introduces linear regression and logistic regression models, which are commonly used in data science for predictive modeling.\n",
    "\n",
    "Linear regression models are used when the response variable is continuous, and the goal is to fit a line that best describes the relationship between the predictors and the response variable. The chapter explains the concept of least-squares fitting, which involves minimizing the sum of squared differences between the observed values and the predicted values of the response variable. The regression coefficients are also discussed, which represent the change in the response variable associated with a one-unit change in the predictor variable.\n",
    "\n",
    "Logistic regression models, on the other hand, are used when the response variable is binary, that is, it takes only two values. In logistic regression, the goal is to estimate the probability of the response variable taking one of the two values based on the values of the predictors. The chapter explains how logistic regression models use the logistic function to transform the linear regression equation into a probability estimate.\n",
    "\n",
    "The chapter also discusses the concept of overfitting, which occurs when the model is too complex and fits the noise in the data, rather than the signal. The chapter emphasizes the importance of assessing the goodness of fit of the model and using cross-validation techniques to prevent overfitting.\n",
    "\n",
    "Overall, Chapter Five of The Art of Statistics provides a comprehensive introduction to regression modeling and its applications in data science. The concepts covered in this chapter are essential for anyone who wants to gain a deeper understanding of predictive modeling and its role in data analysis."
   ],
   "metadata": {
    "collapsed": false
   }
  },
  {
   "cell_type": "markdown",
   "source": [
    "### Take-Away Notes\n",
    "\n",
    "Regression modeling is a statistical technique used to model the relationship between a set of independent variables and a dependent variable.\n",
    "\n",
    "Linear regression models are used when the response variable is continuous, and the goal is to fit a line that best describes the relationship between the predictors and the response variable.\n",
    "\n",
    "Least-squares fitting involves minimizing the sum of squared differences between the observed values and the predicted values of the response variable.\n",
    "\n",
    "Logistic regression models are used when the response variable is binary, and the goal is to estimate the probability of the response variable taking one of the two values based on the values of the predictors.\n",
    "\n",
    "The logistic function is used to transform the linear regression equation into a probability estimate.\n",
    "\n",
    "Overfitting occurs when the model is too complex and fits the noise in the data, rather than the signal.\n",
    "\n",
    "Assessing the goodness of fit of the model and using cross-validation techniques are important for preventing overfitting.\n",
    "\n",
    "Regression coefficients represent the change in the response variable associated with a one-unit change in the predictor variable.\n",
    "\n",
    "The intercept term in a linear regression model represents the predicted value of the response variable when all predictor variables are equal to zero.\n",
    "\n",
    "The coefficient of determination (R-squared) is a measure of the proportion of variance in the response variable explained by the predictor variables in the model.\n",
    "\n",
    "In logistic regression, the odds ratio represents the change in the odds of the response variable taking one of the two values associated with a one-unit change in the predictor variable.\n",
    "\n",
    "The Akaike Information Criterion (AIC) and the Bayesian Information Criterion (BIC) are measures of model fit that penalize models for being too complex.\n",
    "\n",
    "Using cross-validation techniques, such as k-fold cross-validation, can help to prevent overfitting by assessing the performance of the model on new, unseen data.\n",
    "\n",
    "Overall, Chapter Five of The Art of Statistics provides a thorough introduction to regression modeling and its applications in data science. The key take-away notes highlight the important concepts and techniques covered in the chapter, and can be helpful for anyone looking to gain a deeper understanding of regression modeling and its role in data analysis.\n",
    "\n",
    "\n",
    "\n",
    "\n",
    "\n"
   ],
   "metadata": {
    "collapsed": false
   }
  },
  {
   "cell_type": "markdown",
   "source": [
    "### Take Away Notes (2)\n",
    "\n",
    "This chapter introduces us to statistical models, and in particular, regression models. Models are maps - simplifications of the territory - and not the territory itself. The British statistician George Box wrote that ‘all models are wrong, but some are useful.’ Statistical models assume that:\n",
    "\n",
    "Observation = deterministic model (the signal) + residual error (the noise)\n",
    "That is, what we see is the sum of a mathematical idealization, and some random contribution\n",
    "that can’t yet be explained.\n",
    "\n",
    "Regression models predict a quantitative variable (known as the dependent or response variable, typically on the vertical y-axis) with a set of explanatory variables (typically on the x-axis). The gradient of the line is known as the regression coefficient. If there is more than one variable in the set of explanatory variables, we’re doing multiple linear regression; we often do this when we want to adjust for the potential impact of other variables.\n",
    "\n",
    "A linear regression model typically draws the least-squares fitted line over the plot of the explanatory variables against the response variable; that is, a line of ‘best fit’ that minimizes the error between each observed data-point and the line.\n",
    "\n",
    "The regression coefficient differs from the Pearson correlation coefficient, which runs between -1 and 1, and expresses how close to a straight line the data-points fall. The regression coefficient, the Pearson correlation coefficient, and the standard deviations of the variables are related systematically in the mathematical equation for the least-squares fitted line. If the standard deviations of the independent and dependent variables are equal, then the gradient is just the Pearson correlation coefficient.\n",
    "\n",
    "The meaning of the gradient (or regression coefficient) depends on what we assume to be the relationship (i.e., correlational or causal) between the variables in question.\n",
    "Regression to the mean occurs when an extreme observation is succeeded by a less extreme one, through the process of natural variation. The phenomenon occurs because part of the cause of the initial extreme is chance, and this is unlikely to repeat to the same degree. We need to be careful about attributing causal efficacy to interventions that had no effect on an outcome that was just brought about by regression to the mean."
   ],
   "metadata": {
    "collapsed": false
   }
  },
  {
   "cell_type": "code",
   "execution_count": null,
   "outputs": [],
   "source": [],
   "metadata": {
    "collapsed": false
   }
  }
 ],
 "metadata": {
  "kernelspec": {
   "display_name": "Python 3",
   "language": "python",
   "name": "python3"
  },
  "language_info": {
   "codemirror_mode": {
    "name": "ipython",
    "version": 2
   },
   "file_extension": ".py",
   "mimetype": "text/x-python",
   "name": "python",
   "nbconvert_exporter": "python",
   "pygments_lexer": "ipython2",
   "version": "2.7.6"
  }
 },
 "nbformat": 4,
 "nbformat_minor": 0
}
