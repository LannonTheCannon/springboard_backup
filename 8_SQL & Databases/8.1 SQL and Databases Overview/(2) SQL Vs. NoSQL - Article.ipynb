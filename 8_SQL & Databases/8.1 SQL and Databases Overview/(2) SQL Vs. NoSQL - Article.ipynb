{
 "cells": [
  {
   "cell_type": "markdown",
   "source": [
    "# SQL Vs. NoSQL\n",
    "\n",
    "The article discusses the popularity of SQL and NoSQL databases, the most popular databases, and the trend towards using multiple databases instead of just one. According to a survey of developers, engineers, software architects, dev teams, and IT leaders, SQL databases are still more popular than NoSQL databases, but the gap is closing. MySQL is the most popular database followed by MongoDB, PostgreSQL, Redis, and Cassandra. The article also highlights the trend towards using multiple databases, with 44.3% of organizations using more than one type of database to power their applications. The most popular combination is SQL and NoSQL databases, with MySQL and MongoDB being the most popular multiple database type combination.\n",
    "\n",
    "https://scalegrid.io/blog/2019-database-trends-sql-vs-nosql-top-databases-single-vs-multiple-database-use/"
   ],
   "metadata": {
    "collapsed": false
   }
  },
  {
   "cell_type": "code",
   "execution_count": null,
   "outputs": [],
   "source": [],
   "metadata": {
    "collapsed": false
   }
  }
 ],
 "metadata": {
  "kernelspec": {
   "display_name": "Python 3",
   "language": "python",
   "name": "python3"
  },
  "language_info": {
   "codemirror_mode": {
    "name": "ipython",
    "version": 2
   },
   "file_extension": ".py",
   "mimetype": "text/x-python",
   "name": "python",
   "nbconvert_exporter": "python",
   "pygments_lexer": "ipython2",
   "version": "2.7.6"
  }
 },
 "nbformat": 4,
 "nbformat_minor": 0
}
