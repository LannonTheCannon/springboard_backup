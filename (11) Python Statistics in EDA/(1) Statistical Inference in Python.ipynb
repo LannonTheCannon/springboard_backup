{
 "cells": [
  {
   "cell_type": "markdown",
   "source": [
    "# Statistical Inference in Python\n",
    "\n",
    "1. Graphical Exploratory Data Analysis - You'll look at statistical EDA, how to plot histograms, swarm plots, and ECDFs.\n",
    "\n",
    "2. Quantitative Exploratory Data Analysis - You'll look at how to compute summary statistics in Python: mean, median, mode, standard deviation, and variance.\n",
    "\n",
    "3. Thinking Probabilistically, Discrete Variables - You'll look at random number generators in Python, Bernoulli trials, and Binomial and Poisson distributions in Python.\n",
    "\n",
    "4. Thinking Probabilistically, Continuous Variables - You'll look at probability density functions, the normal distribution, and exponential distributions in Python."
   ],
   "metadata": {
    "collapsed": false
   }
  },
  {
   "cell_type": "code",
   "execution_count": null,
   "metadata": {
    "collapsed": true
   },
   "outputs": [],
   "source": []
  }
 ],
 "metadata": {
  "kernelspec": {
   "display_name": "Python 3",
   "language": "python",
   "name": "python3"
  },
  "language_info": {
   "codemirror_mode": {
    "name": "ipython",
    "version": 2
   },
   "file_extension": ".py",
   "mimetype": "text/x-python",
   "name": "python",
   "nbconvert_exporter": "python",
   "pygments_lexer": "ipython2",
   "version": "2.7.6"
  }
 },
 "nbformat": 4,
 "nbformat_minor": 0
}
