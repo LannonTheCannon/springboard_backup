{
 "cells": [
  {
   "cell_type": "markdown",
   "source": [
    "# Statistical Inference in Python\n",
    "\n",
    "1. Graphical Exploratory Data Analysis - You'll look at statistical EDA, how to plot histograms, swarm plots, and ECDFs.\n",
    "\n",
    "2. Quantitative Exploratory Data Analysis - You'll look at how to compute summary statistics in Python: mean, median, mode, standard deviation, and variance.\n",
    "\n",
    "3. Thinking Probabilistically, Discrete Variables - You'll look at random number generators in Python, Bernoulli trials, and Binomial and Poisson distributions in Python.\n",
    "\n",
    "4. Thinking Probabilistically, Continuous Variables - You'll look at probability density functions, the normal distribution, and exponential distributions in Python."
   ],
   "metadata": {
    "collapsed": false
   }
  },
  {
   "cell_type": "markdown",
   "source": [
    "## Bee Swarm Plot\n",
    "\n",
    "Make a bee swarm plot of the iris petal lengths. Your x-axis should contain each of the three species, and the y-axis the petal lengths. A data frame containing the data is in your namespace as df.m"
   ],
   "metadata": {
    "collapsed": false
   },
   "outputs": [
    {
     "ename": "SyntaxError",
     "evalue": "invalid syntax (476184216.py, line 3)",
     "output_type": "error",
     "traceback": [
      "\u001B[1;36m  Cell \u001B[1;32mIn[1], line 3\u001B[1;36m\u001B[0m\n\u001B[1;33m    Make a bee swarm plot of the iris petal lengths. Your x-axis should contain each of the three species, and the y-axis the petal lengths. A data frame containing the data is in your namespace as df.m\u001B[0m\n\u001B[1;37m         ^\u001B[0m\n\u001B[1;31mSyntaxError\u001B[0m\u001B[1;31m:\u001B[0m invalid syntax\n"
     ]
    }
   ],
   "execution_count": 1
  },
  {
   "cell_type": "code",
   "execution_count": 7,
   "outputs": [
    {
     "name": "stderr",
     "output_type": "stream",
     "text": [
      "C:\\Users\\16269\\anaconda3\\lib\\site-packages\\seaborn\\categorical.py:3544: UserWarning: 10.0% of the points cannot be placed; you may want to decrease the size of the markers or use stripplot.\n",
      "  warnings.warn(msg, UserWarning)\n"
     ]
    },
    {
     "data": {
      "text/plain": "<Figure size 640x480 with 1 Axes>",
      "image/png": "[encoded data removed]"
     },
     "metadata": {},
     "output_type": "display_data"
    }
   ],
   "source": [
    "import pandas as pd\n",
    "import matplotlib.pyplot as plt\n",
    "import seaborn as sns\n",
    "import numpy as np\n",
    "\n",
    "df = pd.read_csv('Iris.csv')\n",
    "\n",
    "# Create bee swarm plot with Seaborn's default settings\n",
    "_ = sns.swarmplot(x='Species', y='PetalLengthCm', data=df)\n",
    "\n",
    "# Label the axes\n",
    "_ = plt.xlabel('Species')\n",
    "_ = plt.ylabel('PetalLengthCm')\n",
    "\n",
    "# Show the plot\n",
    "plt.show()\n"
   ],
   "metadata": {
    "collapsed": false
   }
  },
  {
   "cell_type": "markdown",
   "source": [
    "### Interpreting a bee swarm plot\n",
    "\n",
    "Which of the following conclusions could you draw from the bee swarm plot of iris petal lengths you generated in the previous exercise? For your convenience, the bee swarm plot is regenerated and shown to the right.\n",
    "\n",
    "I. virginica petals tend to be the longest, and I. setosa petals tend to be the shortest of the three species."
   ],
   "metadata": {
    "collapsed": false
   }
  },
  {
   "cell_type": "markdown",
   "source": [
    "## Plot all of your data: ECDFs\n",
    "\n",
    "\n",
    "This passage explains the use of Empirical Cumulative Distribution Functions (ECDFs) as a way to visualize data, particularly when bee swarm plots may not be suitable due to overlapping data points. The 2008 US swing state election results are used as an example.\n",
    "\n",
    "ECDFs: An ECDF is a graphical representation of the cumulative distribution of a dataset. It is especially useful when bee swarm plots become cluttered and less effective for large datasets. The x-value represents the measured quantity (e.g., the percentage of votes for Obama), and the y-value represents the fraction of data points with a value smaller than the corresponding x-value.\n",
    "\n",
    "2008 US swing state election results: The passage provides an example of an ECDF showing the percentage of votes for Obama in swing states. It also highlights the advantages of ECDFs over bee swarm plots, which may obscure data points due to overlap when dealing with large datasets.\n",
    "\n",
    "Making an ECDF: To create an ECDF, follow these steps:\n",
    "\n",
    "a. Import NumPy (typically using the alias np).\n",
    "b. Generate the x-axis data using np.sort().\n",
    "c. Generate the y-axis data by dividing the output of np.arange() by the total number of data points.\n",
    "d. Use plt.plot() to plot the points with specified marker and linestyle arguments.\n",
    "e. Label the axes and use plt.margins() to ensure a buffer around the plot area.\n",
    "\n",
    "2008 US swing state election ECDFs: The passage demonstrates how to plot multiple ECDFs for different swing states. Comparing these ECDFs reveals insights about the distribution of votes across states, highlighting similarities and differences between them.\n",
    "\n",
    "Workflow: The author recommends starting data analysis with an ECDF, as it shows all the data and provides a comprehensive picture of the distribution.\n",
    "\n",
    "In summary, ECDFs are a powerful tool for visualizing data distributions, particularly when dealing with large datasets that make bee swarm plots less effective. Using the 2008 US swing state election results as an example, the passage illustrates the benefits of ECDFs and provides step-by-step instructions for creating them."
   ],
   "metadata": {
    "collapsed": false
   }
  },
  {
   "cell_type": "markdown",
   "source": [
    "### Computing the ECDF\n",
    "\n",
    "* You will write a function that takes as input a 1D array of data and then returns the x and y values of the ECDF. You will use this function over and over again throughout this course and its sequel. ECDFs are among the most important plots in statistical analysis\n",
    "\n",
    "**Instructions:**\n",
    "Define a function with the signature ecdf(data). Within the function definition,\n",
    "Compute the number of data points, n, using the len() function.\n",
    "The\n",
    "-values are the sorted data. Use the np.sort() function to perform the sorting.\n",
    "The\n",
    " data of the ECDF go from 1/n to 1 in equally spaced increments. You can construct this using np.arange(). Remember, however, that the end value in np.arange() is not inclusive. Therefore, np.arange() will need to go from 1 to n+1. Be sure to divide this by n.\n",
    "The function returns the values x and y."
   ],
   "metadata": {
    "collapsed": false
   }
  },
  {
   "cell_type": "code",
   "execution_count": 9,
   "outputs": [],
   "source": [
    "def ecdf(data):\n",
    "    \"\"\"Compute ECDF for a one-dimensional array of measurements.\"\"\"\n",
    "    # Number of data points: n\n",
    "    n = len(data)\n",
    "\n",
    "    # x-data for the ECDF: x\n",
    "    x = np.sort(data)\n",
    "\n",
    "    # y-data for the ECDF: y\n",
    "    y = np.arange(1, n+1) / n\n",
    "\n",
    "    return x, y"
   ],
   "metadata": {
    "collapsed": false
   }
  },
  {
   "cell_type": "markdown",
   "source": [
    "### Plotting the ECDF\n",
    "\n",
    "* You will now use your ecdf() function to compute the ECDF for the petal lengths of Anderson's Iris versicolor flowers. You will then plot the ECDF. Recall that your ecdf() function returns two arrays so you will need to unpack them. An example of such unpacking is x, y = foo(data), for some function foo().\n",
    "\n",
    "**Instructions**\n",
    "Use ecdf() to compute the ECDF of versicolor_petal_length. Unpack the output into x_vers and y_vers.\n",
    "Plot the ECDF as dots. Remember to include marker = '.' and linestyle = 'none' in addition to x_vers and y_vers as arguments inside plt.plot().\n",
    "Label the axes. You can label the y-axis 'ECDF'.\n",
    "Show your plot."
   ],
   "metadata": {
    "collapsed": false
   }
  },
  {
   "cell_type": "code",
   "execution_count": 10,
   "outputs": [
    {
     "ename": "NameError",
     "evalue": "name 'versicolor_petal_length' is not defined",
     "output_type": "error",
     "traceback": [
      "\u001B[1;31m---------------------------------------------------------------------------\u001B[0m",
      "\u001B[1;31mNameError\u001B[0m                                 Traceback (most recent call last)",
      "Cell \u001B[1;32mIn[10], line 2\u001B[0m\n\u001B[0;32m      1\u001B[0m \u001B[38;5;66;03m# Compute ECDF for versicolor data: x_vers, y_vers\u001B[39;00m\n\u001B[1;32m----> 2\u001B[0m x_vers, y_vers \u001B[38;5;241m=\u001B[39m ecdf(\u001B[43mversicolor_petal_length\u001B[49m)\n\u001B[0;32m      4\u001B[0m \u001B[38;5;66;03m# Generate plot\u001B[39;00m\n\u001B[0;32m      5\u001B[0m _ \u001B[38;5;241m=\u001B[39m plt\u001B[38;5;241m.\u001B[39mplot(x_vers, y_vers, marker\u001B[38;5;241m=\u001B[39m\u001B[38;5;124m'\u001B[39m\u001B[38;5;124m.\u001B[39m\u001B[38;5;124m'\u001B[39m, linestyle\u001B[38;5;241m=\u001B[39m\u001B[38;5;124m'\u001B[39m\u001B[38;5;124mnone\u001B[39m\u001B[38;5;124m'\u001B[39m)\n",
      "\u001B[1;31mNameError\u001B[0m: name 'versicolor_petal_length' is not defined"
     ]
    }
   ],
   "source": [
    "# Compute ECDF for versicolor data: x_vers, y_vers\n",
    "x_vers, y_vers = ecdf(versicolor_petal_length)\n",
    "\n",
    "# Generate plot\n",
    "_ = plt.plot(x_vers, y_vers, marker='.', linestyle='none')\n",
    "\n",
    "# Label the axes\n",
    "_ = plt.xlabel('petal length (cm)')\n",
    "_ = plt.ylabel('ECDF')\n",
    "\n",
    "# Display the plot\n",
    "plt.show()"
   ],
   "metadata": {
    "collapsed": false
   }
  },
  {
   "cell_type": "markdown",
   "source": [
    "### Comparison of ECDFs\n",
    "\n",
    "ECDFs also allow you to compare two or more distributions (though plots get cluttered if you have too many). Here, you will plot ECDFs for the petal lengths of all three iris species. You already wrote a function to generate ECDFs so you can put it to good use!\n",
    "\n",
    "To overlay all three ECDFs on the same plot, you can use plt.plot() three times, once for each ECDF. Remember to include marker='.' and linestyle='none' as arguments inside plt.plot().\n",
    "\n",
    "**Instructions**\n",
    "Compute ECDFs for each of the three species using your ecdf() function. The variables setosa_petal_length, versicolor_petal_length, and virginica_petal_length are all in your namespace. Unpack the ECDFs into x_set, y_set, x_vers, y_vers and x_virg, y_virg, respectively.\n",
    "Plot all three ECDFs on the same plot as dots. To do this, you will need three plt.plot() commands. Assign the result of each to _.\n",
    "A legend and axis labels have been added for you, so hit submit to see all the ECDFs!\n"
   ],
   "metadata": {
    "collapsed": false
   }
  },
  {
   "cell_type": "code",
   "execution_count": null,
   "outputs": [],
   "source": [
    "# Compute ECDFs\n",
    "x_set, y_set = ecdf(setosa_petal_length)\n",
    "x_vers, y_vers = ecdf(versicolor_petal_length)\n",
    "x_virg, y_virg = ecdf(virginica_petal_length)\n",
    "\n",
    "# Plot all ECDFs on the same plot\n",
    "_ = plt.plot(x_set, y_set, marker='.', linestyle='none')\n",
    "_ = plt.plot(x_vers, y_vers, marker='.', linestyle='none')\n",
    "_ = plt.plot(x_virg, y_virg, marker='.', linestyle='none')\n",
    "\n",
    "# Annotate the plot\n",
    "_ = plt.legend(('setosa', 'versicolor', 'virginica'), loc='lower right')\n",
    "_ = plt.xlabel('petal length (cm)')\n",
    "_ = plt.ylabel('ECDF')\n",
    "\n",
    "# Display the plot\n",
    "plt.show()"
   ],
   "metadata": {
    "collapsed": false
   }
  },
  {
   "cell_type": "markdown",
   "source": [
    "<img src=\"images/comparison of ECDFs.png\" alt=\"Image description\" width=\"500\" height=\"300\">"
   ],
   "metadata": {
    "collapsed": false
   }
  },
  {
   "cell_type": "markdown",
   "source": [
    "## Onward toward the whole story!\n",
    "\n",
    "The passage discusses the importance of graphical exploratory data analysis (EDA) tools and highlights that they are often the starting point in data analysis. It emphasizes that while EDA isn't the complete story, it serves as the foundation for further analysis. Key EDA tools include histograms, bee swarm plots, and empirical cumulative distribution functions (ECDFs).\n",
    "\n",
    "John Tukey, a prominent statistician, is quoted to emphasize the significance of EDA in data analysis: \"Exploratory data analysis can never be the whole story, but nothing else can serve as the foundation stone.\"\n",
    "\n",
    "The passage concludes by outlining the next steps, which involve building upon graphical EDA with quantitative EDA for computing summary statistics. The remainder of the course will focus on thinking probabilistically, learning about probability distributions, and leveraging the power of the NumPy random module for hacker statistics. By doing so, you will be able to draw meaningful conclusions from your data and get closer to telling \"the whole story.\""
   ],
   "metadata": {
    "collapsed": false
   }
  },
  {
   "cell_type": "markdown",
   "source": [
    "## Introduction to Summary Statistics: The sample mean and median\n",
    "\n",
    "The passage discusses the use of summary statistics, such as the sample mean and median, to provide more succinct numerical summaries of data. While these numerical summaries don't replace graphical methods, they are a compact way to represent information.\n",
    "\n",
    "Using the 2008 US swing state election results as an example, the mean percentage of votes for Obama in Pennsylvania is calculated as the average percentage over the counties. The mean is a useful statistic but can be influenced by outliers, or data points with extreme values.\n",
    "\n",
    "For instance, in the 2008 Utah election results, a few counties had a high vote share for Obama, pulling the mean higher. To have a summary statistic that is less sensitive to extreme values, the median can be used. The median is the middle value in a sorted dataset and is immune to extreme values as it's based on the ranking of the sorted data.\n",
    "\n",
    "The passage demonstrates calculating the mean and median using the np.mean and np.median functions from the NumPy library. The passage concludes with encouragement to practice using these two powerful and common summary statistics."
   ],
   "metadata": {
    "collapsed": false
   }
  },
  {
   "cell_type": "code",
   "execution_count": null,
   "outputs": [],
   "source": [],
   "metadata": {
    "collapsed": false
   }
  },
  {
   "cell_type": "code",
   "execution_count": null,
   "outputs": [],
   "source": [],
   "metadata": {
    "collapsed": false
   }
  },
  {
   "cell_type": "code",
   "execution_count": null,
   "outputs": [],
   "source": [],
   "metadata": {
    "collapsed": false
   }
  },
  {
   "cell_type": "code",
   "execution_count": null,
   "outputs": [],
   "source": [],
   "metadata": {
    "collapsed": false
   }
  },
  {
   "cell_type": "code",
   "execution_count": null,
   "outputs": [],
   "source": [],
   "metadata": {
    "collapsed": false
   }
  },
  {
   "cell_type": "code",
   "execution_count": null,
   "outputs": [],
   "source": [],
   "metadata": {
    "collapsed": false
   }
  },
  {
   "cell_type": "code",
   "execution_count": null,
   "outputs": [],
   "source": [],
   "metadata": {
    "collapsed": false
   }
  },
  {
   "cell_type": "code",
   "execution_count": null,
   "outputs": [],
   "source": [],
   "metadata": {
    "collapsed": false
   }
  },
  {
   "cell_type": "code",
   "execution_count": null,
   "outputs": [],
   "source": [],
   "metadata": {
    "collapsed": false
   }
  },
  {
   "cell_type": "markdown",
   "source": [
    "<img src=\"images/your-image-name.png\" alt=\"Image description\" width=\"500\" height=\"300\">"
   ],
   "metadata": {
    "collapsed": false
   }
  }
 ],
 "metadata": {
  "kernelspec": {
   "display_name": "Python 3",
   "language": "python",
   "name": "python3"
  },
  "language_info": {
   "codemirror_mode": {
    "name": "ipython",
    "version": 2
   },
   "file_extension": ".py",
   "mimetype": "text/x-python",
   "name": "python",
   "nbconvert_exporter": "python",
   "pygments_lexer": "ipython2",
   "version": "2.7.6"
  }
 },
 "nbformat": 4,
 "nbformat_minor": 0
}
